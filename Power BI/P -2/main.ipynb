{
 "cells": [
  {
   "cell_type": "code",
   "execution_count": 2,
   "metadata": {},
   "outputs": [],
   "source": [
    "import pandas as pd\n",
    "import numpy as np"
   ]
  },
  {
   "cell_type": "code",
   "execution_count": 15,
   "metadata": {},
   "outputs": [
    {
     "data": {
      "text/plain": [
       "Row ID+O6G3A1:R6       0\n",
       "Order ID               0\n",
       "Order Date             0\n",
       "Ship Date              0\n",
       "Ship Mode              0\n",
       "Customer ID            0\n",
       "Customer Name          0\n",
       "Segment                0\n",
       "Country                0\n",
       "City                   0\n",
       "State                  0\n",
       "Region                 0\n",
       "Product ID             0\n",
       "Category               0\n",
       "Sub-Category           0\n",
       "Product Name           0\n",
       "Sales                  0\n",
       "Quantity               0\n",
       "Profit                 0\n",
       "Returns             5614\n",
       "Payment Mode           0\n",
       "ind1                5901\n",
       "ind2                5901\n",
       "dtype: int64"
      ]
     },
     "execution_count": 15,
     "metadata": {},
     "output_type": "execute_result"
    }
   ],
   "source": [
    "pd.read_excel(\"3_power bi pro 2_2024-12-13_080945.xlsx\").isnull().sum()"
   ]
  },
  {
   "cell_type": "code",
   "execution_count": 14,
   "metadata": {},
   "outputs": [
    {
     "data": {
      "text/plain": [
       "Row ID+O6G3A1:R6       0\n",
       "Order ID               0\n",
       "Order Date             0\n",
       "Ship Date              0\n",
       "Ship Mode              0\n",
       "Customer ID            0\n",
       "Customer Name          0\n",
       "Segment                0\n",
       "Country                0\n",
       "City                   0\n",
       "State                  0\n",
       "Region                 0\n",
       "Product ID             0\n",
       "Category               0\n",
       "Sub-Category           0\n",
       "Product Name           0\n",
       "Sales                  0\n",
       "Quantity               0\n",
       "Profit                 0\n",
       "Returns             5614\n",
       "Payment Mode           0\n",
       "ind1                5901\n",
       "ind2                5901\n",
       "dtype: int64"
      ]
     },
     "execution_count": 14,
     "metadata": {},
     "output_type": "execute_result"
    }
   ],
   "source": [
    "pd.read_csv(\"4_power bi pro 2_2024-12-13_080945.csv\").isnull().sum()"
   ]
  },
  {
   "cell_type": "code",
   "execution_count": 11,
   "metadata": {},
   "outputs": [],
   "source": [
    "pd.options.display.max_columns = None\n",
    "pd.options.display.max_rows = None"
   ]
  },
  {
   "cell_type": "code",
   "execution_count": null,
   "metadata": {},
   "outputs": [],
   "source": []
  }
 ],
 "metadata": {
  "kernelspec": {
   "display_name": "base",
   "language": "python",
   "name": "python3"
  },
  "language_info": {
   "codemirror_mode": {
    "name": "ipython",
    "version": 3
   },
   "file_extension": ".py",
   "mimetype": "text/x-python",
   "name": "python",
   "nbconvert_exporter": "python",
   "pygments_lexer": "ipython3",
   "version": "3.12.7"
  }
 },
 "nbformat": 4,
 "nbformat_minor": 2
}
