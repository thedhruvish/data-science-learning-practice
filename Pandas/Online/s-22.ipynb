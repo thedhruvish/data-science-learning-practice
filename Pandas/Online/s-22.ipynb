{
 "cells": [
  {
   "cell_type": "code",
   "execution_count": 1,
   "id": "1f327ab0-615c-485d-b33b-1ef3b0d1798b",
   "metadata": {},
   "outputs": [],
   "source": [
    "import numpy as np\n",
    "import pandas as pd"
   ]
  },
  {
   "cell_type": "code",
   "execution_count": 2,
   "id": "05caa127-070e-4443-9f6b-007e4e0ca250",
   "metadata": {},
   "outputs": [
    {
     "data": {
      "text/plain": [
       "array([0, 1, 2, 3])"
      ]
     },
     "execution_count": 2,
     "metadata": {},
     "output_type": "execute_result"
    }
   ],
   "source": [
    "np.array([1,2,3,4]) - 1"
   ]
  },
  {
   "cell_type": "code",
   "execution_count": 6,
   "id": "207b252e-8b1c-440f-be6a-280784d56e0d",
   "metadata": {},
   "outputs": [
    {
     "ename": "AttributeError",
     "evalue": "'NoneType' object has no attribute 'startswith'",
     "output_type": "error",
     "traceback": [
      "\u001b[1;31m---------------------------------------------------------------------------\u001b[0m",
      "\u001b[1;31mAttributeError\u001b[0m                            Traceback (most recent call last)",
      "Cell \u001b[1;32mIn[6], line 3\u001b[0m\n\u001b[0;32m      1\u001b[0m s \u001b[38;5;241m=\u001b[39m [\u001b[38;5;124m'\u001b[39m\u001b[38;5;124mcat\u001b[39m\u001b[38;5;124m'\u001b[39m,\u001b[38;5;124m'\u001b[39m\u001b[38;5;124mmat\u001b[39m\u001b[38;5;124m'\u001b[39m,\u001b[38;5;28;01mNone\u001b[39;00m,\u001b[38;5;124m'\u001b[39m\u001b[38;5;124mrat\u001b[39m\u001b[38;5;124m'\u001b[39m]\n\u001b[1;32m----> 3\u001b[0m [\u001b[43mi\u001b[49m\u001b[38;5;241;43m.\u001b[39;49m\u001b[43mstartswith\u001b[49m(\u001b[38;5;124m'\u001b[39m\u001b[38;5;124mc\u001b[39m\u001b[38;5;124m'\u001b[39m) \u001b[38;5;28;01mfor\u001b[39;00m i \u001b[38;5;129;01min\u001b[39;00m s]\n",
      "\u001b[1;31mAttributeError\u001b[0m: 'NoneType' object has no attribute 'startswith'"
     ]
    }
   ],
   "source": [
    "s = ['cat','mat',None,'rat']\n",
    "\n",
    "[i.startswith('c') for i in s]"
   ]
  },
  {
   "cell_type": "code",
   "execution_count": 8,
   "id": "b6b01133-66b5-40d2-8c34-826128910d4d",
   "metadata": {},
   "outputs": [
    {
     "data": {
      "text/plain": [
       "0     True\n",
       "1    False\n",
       "2     None\n",
       "3    False\n",
       "dtype: object"
      ]
     },
     "execution_count": 8,
     "metadata": {},
     "output_type": "execute_result"
    }
   ],
   "source": [
    "s1 = pd.Series(s)\n",
    "\n",
    "s1.str.startswith('c')"
   ]
  },
  {
   "cell_type": "code",
   "execution_count": 10,
   "id": "48b82a3f-326a-4683-b55d-e20baa294857",
   "metadata": {},
   "outputs": [
    {
     "data": {
      "text/plain": [
       "0                                Braund, Mr. Owen Harris\n",
       "1      Cumings, Mrs. John Bradley (Florence Briggs Th...\n",
       "2                                 Heikkinen, Miss. Laina\n",
       "3           Futrelle, Mrs. Jacques Heath (Lily May Peel)\n",
       "4                               Allen, Mr. William Henry\n",
       "                             ...                        \n",
       "886                                Montvila, Rev. Juozas\n",
       "887                         Graham, Miss. Margaret Edith\n",
       "888             Johnston, Miss. Catherine Helen \"Carrie\"\n",
       "889                                Behr, Mr. Karl Howell\n",
       "890                                  Dooley, Mr. Patrick\n",
       "Name: Name, Length: 891, dtype: object"
      ]
     },
     "execution_count": 10,
     "metadata": {},
     "output_type": "execute_result"
    }
   ],
   "source": [
    "df = pd.read_csv('Data-Set/titanic.csv')\n",
    "df['Name']"
   ]
  },
  {
   "cell_type": "code",
   "execution_count": 11,
   "id": "29119be7-a465-43b0-a5d2-5dab433edc00",
   "metadata": {},
   "outputs": [
    {
     "data": {
      "text/plain": [
       "0                                BRAUND, MR. OWEN HARRIS\n",
       "1      CUMINGS, MRS. JOHN BRADLEY (FLORENCE BRIGGS TH...\n",
       "2                                 HEIKKINEN, MISS. LAINA\n",
       "3           FUTRELLE, MRS. JACQUES HEATH (LILY MAY PEEL)\n",
       "4                               ALLEN, MR. WILLIAM HENRY\n",
       "                             ...                        \n",
       "886                                MONTVILA, REV. JUOZAS\n",
       "887                         GRAHAM, MISS. MARGARET EDITH\n",
       "888             JOHNSTON, MISS. CATHERINE HELEN \"CARRIE\"\n",
       "889                                BEHR, MR. KARL HOWELL\n",
       "890                                  DOOLEY, MR. PATRICK\n",
       "Name: Name, Length: 891, dtype: object"
      ]
     },
     "execution_count": 11,
     "metadata": {},
     "output_type": "execute_result"
    }
   ],
   "source": [
    "df['Name'].str.upper()"
   ]
  },
  {
   "cell_type": "code",
   "execution_count": 12,
   "id": "874f4327-bd7a-4bbb-9f53-3c8a3ebd2e94",
   "metadata": {},
   "outputs": [
    {
     "data": {
      "text/plain": [
       "0                                braund, mr. owen harris\n",
       "1      cumings, mrs. john bradley (florence briggs th...\n",
       "2                                 heikkinen, miss. laina\n",
       "3           futrelle, mrs. jacques heath (lily may peel)\n",
       "4                               allen, mr. william henry\n",
       "                             ...                        \n",
       "886                                montvila, rev. juozas\n",
       "887                         graham, miss. margaret edith\n",
       "888             johnston, miss. catherine helen \"carrie\"\n",
       "889                                behr, mr. karl howell\n",
       "890                                  dooley, mr. patrick\n",
       "Name: Name, Length: 891, dtype: object"
      ]
     },
     "execution_count": 12,
     "metadata": {},
     "output_type": "execute_result"
    }
   ],
   "source": [
    "df['Name'].str.lower()"
   ]
  },
  {
   "cell_type": "code",
   "execution_count": 13,
   "id": "69cfdfdb-85b1-48ab-abc7-2dc7927c2cfd",
   "metadata": {},
   "outputs": [
    {
     "data": {
      "text/plain": [
       "0                                Braund, Mr. Owen Harris\n",
       "1      Cumings, Mrs. John Bradley (Florence Briggs Th...\n",
       "2                                 Heikkinen, Miss. Laina\n",
       "3           Futrelle, Mrs. Jacques Heath (Lily May Peel)\n",
       "4                               Allen, Mr. William Henry\n",
       "                             ...                        \n",
       "886                                Montvila, Rev. Juozas\n",
       "887                         Graham, Miss. Margaret Edith\n",
       "888             Johnston, Miss. Catherine Helen \"Carrie\"\n",
       "889                                Behr, Mr. Karl Howell\n",
       "890                                  Dooley, Mr. Patrick\n",
       "Name: Name, Length: 891, dtype: object"
      ]
     },
     "execution_count": 13,
     "metadata": {},
     "output_type": "execute_result"
    }
   ],
   "source": [
    "df['Name'].str.title()"
   ]
  },
  {
   "cell_type": "code",
   "execution_count": 18,
   "id": "2c6eb25b-4467-40da-9de5-e10c6c7aa6cc",
   "metadata": {},
   "outputs": [
    {
     "data": {
      "text/plain": [
       "307    Penasco y Castellana, Mrs. Victor de Satode (M...\n",
       "Name: Name, dtype: object"
      ]
     },
     "execution_count": 18,
     "metadata": {},
     "output_type": "execute_result"
    }
   ],
   "source": [
    "df['Name'][df['Name'].str.len()==82]"
   ]
  },
  {
   "cell_type": "code",
   "execution_count": 19,
   "id": "425b44e4-429f-409c-a44e-397896f0d260",
   "metadata": {},
   "outputs": [
    {
     "data": {
      "text/plain": [
       "'nitish'"
      ]
     },
     "execution_count": 19,
     "metadata": {},
     "output_type": "execute_result"
    }
   ],
   "source": [
    "\"                  nitish        \".strip()"
   ]
  },
  {
   "cell_type": "code",
   "execution_count": 20,
   "id": "014507cf-0d38-483e-a28d-e223092b1600",
   "metadata": {},
   "outputs": [
    {
     "data": {
      "text/plain": [
       "0                                Braund, Mr. Owen Harris\n",
       "1      Cumings, Mrs. John Bradley (Florence Briggs Th...\n",
       "2                                 Heikkinen, Miss. Laina\n",
       "3           Futrelle, Mrs. Jacques Heath (Lily May Peel)\n",
       "4                               Allen, Mr. William Henry\n",
       "                             ...                        \n",
       "886                                Montvila, Rev. Juozas\n",
       "887                         Graham, Miss. Margaret Edith\n",
       "888             Johnston, Miss. Catherine Helen \"Carrie\"\n",
       "889                                Behr, Mr. Karl Howell\n",
       "890                                  Dooley, Mr. Patrick\n",
       "Name: Name, Length: 891, dtype: object"
      ]
     },
     "execution_count": 20,
     "metadata": {},
     "output_type": "execute_result"
    }
   ],
   "source": [
    "df['Name'].str.strip()"
   ]
  },
  {
   "cell_type": "code",
   "execution_count": 25,
   "id": "6588f579-7d02-4cc2-8023-c97de78c2145",
   "metadata": {},
   "outputs": [],
   "source": [
    "df['Last_name'] = df['Name'].str.split(',').str.get(0)"
   ]
  },
  {
   "cell_type": "code",
   "execution_count": 34,
   "id": "44b37097-03f3-46c4-b2aa-62adf712c4b0",
   "metadata": {},
   "outputs": [],
   "source": [
    "df[['Title','Firstname']] = df['Name'].str.split(',').str.get(1).str.strip().str.split(' ',n=1,expand=True)"
   ]
  },
  {
   "cell_type": "code",
   "execution_count": 35,
   "id": "82578e66-44d2-48a8-89da-3bb73b476107",
   "metadata": {},
   "outputs": [
    {
     "data": {
      "text/html": [
       "<div>\n",
       "<style scoped>\n",
       "    .dataframe tbody tr th:only-of-type {\n",
       "        vertical-align: middle;\n",
       "    }\n",
       "\n",
       "    .dataframe tbody tr th {\n",
       "        vertical-align: top;\n",
       "    }\n",
       "\n",
       "    .dataframe thead th {\n",
       "        text-align: right;\n",
       "    }\n",
       "</style>\n",
       "<table border=\"1\" class=\"dataframe\">\n",
       "  <thead>\n",
       "    <tr style=\"text-align: right;\">\n",
       "      <th></th>\n",
       "      <th>PassengerId</th>\n",
       "      <th>Survived</th>\n",
       "      <th>Pclass</th>\n",
       "      <th>Name</th>\n",
       "      <th>Sex</th>\n",
       "      <th>Age</th>\n",
       "      <th>SibSp</th>\n",
       "      <th>Parch</th>\n",
       "      <th>Ticket</th>\n",
       "      <th>Fare</th>\n",
       "      <th>Cabin</th>\n",
       "      <th>Embarked</th>\n",
       "      <th>Last_name</th>\n",
       "      <th>Title</th>\n",
       "      <th>Firstname</th>\n",
       "    </tr>\n",
       "  </thead>\n",
       "  <tbody>\n",
       "    <tr>\n",
       "      <th>0</th>\n",
       "      <td>1</td>\n",
       "      <td>0</td>\n",
       "      <td>3</td>\n",
       "      <td>Braund, Mr. Owen Harris</td>\n",
       "      <td>male</td>\n",
       "      <td>22.0</td>\n",
       "      <td>1</td>\n",
       "      <td>0</td>\n",
       "      <td>A/5 21171</td>\n",
       "      <td>7.2500</td>\n",
       "      <td>NaN</td>\n",
       "      <td>S</td>\n",
       "      <td>Braund</td>\n",
       "      <td>Mr.</td>\n",
       "      <td>Owen Harris</td>\n",
       "    </tr>\n",
       "    <tr>\n",
       "      <th>1</th>\n",
       "      <td>2</td>\n",
       "      <td>1</td>\n",
       "      <td>1</td>\n",
       "      <td>Cumings, Mrs. John Bradley (Florence Briggs Th...</td>\n",
       "      <td>female</td>\n",
       "      <td>38.0</td>\n",
       "      <td>1</td>\n",
       "      <td>0</td>\n",
       "      <td>PC 17599</td>\n",
       "      <td>71.2833</td>\n",
       "      <td>C85</td>\n",
       "      <td>C</td>\n",
       "      <td>Cumings</td>\n",
       "      <td>Mrs.</td>\n",
       "      <td>John Bradley (Florence Briggs Thayer)</td>\n",
       "    </tr>\n",
       "    <tr>\n",
       "      <th>2</th>\n",
       "      <td>3</td>\n",
       "      <td>1</td>\n",
       "      <td>3</td>\n",
       "      <td>Heikkinen, Miss. Laina</td>\n",
       "      <td>female</td>\n",
       "      <td>26.0</td>\n",
       "      <td>0</td>\n",
       "      <td>0</td>\n",
       "      <td>STON/O2. 3101282</td>\n",
       "      <td>7.9250</td>\n",
       "      <td>NaN</td>\n",
       "      <td>S</td>\n",
       "      <td>Heikkinen</td>\n",
       "      <td>Miss.</td>\n",
       "      <td>Laina</td>\n",
       "    </tr>\n",
       "    <tr>\n",
       "      <th>3</th>\n",
       "      <td>4</td>\n",
       "      <td>1</td>\n",
       "      <td>1</td>\n",
       "      <td>Futrelle, Mrs. Jacques Heath (Lily May Peel)</td>\n",
       "      <td>female</td>\n",
       "      <td>35.0</td>\n",
       "      <td>1</td>\n",
       "      <td>0</td>\n",
       "      <td>113803</td>\n",
       "      <td>53.1000</td>\n",
       "      <td>C123</td>\n",
       "      <td>S</td>\n",
       "      <td>Futrelle</td>\n",
       "      <td>Mrs.</td>\n",
       "      <td>Jacques Heath (Lily May Peel)</td>\n",
       "    </tr>\n",
       "    <tr>\n",
       "      <th>4</th>\n",
       "      <td>5</td>\n",
       "      <td>0</td>\n",
       "      <td>3</td>\n",
       "      <td>Allen, Mr. William Henry</td>\n",
       "      <td>male</td>\n",
       "      <td>35.0</td>\n",
       "      <td>0</td>\n",
       "      <td>0</td>\n",
       "      <td>373450</td>\n",
       "      <td>8.0500</td>\n",
       "      <td>NaN</td>\n",
       "      <td>S</td>\n",
       "      <td>Allen</td>\n",
       "      <td>Mr.</td>\n",
       "      <td>William Henry</td>\n",
       "    </tr>\n",
       "    <tr>\n",
       "      <th>...</th>\n",
       "      <td>...</td>\n",
       "      <td>...</td>\n",
       "      <td>...</td>\n",
       "      <td>...</td>\n",
       "      <td>...</td>\n",
       "      <td>...</td>\n",
       "      <td>...</td>\n",
       "      <td>...</td>\n",
       "      <td>...</td>\n",
       "      <td>...</td>\n",
       "      <td>...</td>\n",
       "      <td>...</td>\n",
       "      <td>...</td>\n",
       "      <td>...</td>\n",
       "      <td>...</td>\n",
       "    </tr>\n",
       "    <tr>\n",
       "      <th>886</th>\n",
       "      <td>887</td>\n",
       "      <td>0</td>\n",
       "      <td>2</td>\n",
       "      <td>Montvila, Rev. Juozas</td>\n",
       "      <td>male</td>\n",
       "      <td>27.0</td>\n",
       "      <td>0</td>\n",
       "      <td>0</td>\n",
       "      <td>211536</td>\n",
       "      <td>13.0000</td>\n",
       "      <td>NaN</td>\n",
       "      <td>S</td>\n",
       "      <td>Montvila</td>\n",
       "      <td>Rev.</td>\n",
       "      <td>Juozas</td>\n",
       "    </tr>\n",
       "    <tr>\n",
       "      <th>887</th>\n",
       "      <td>888</td>\n",
       "      <td>1</td>\n",
       "      <td>1</td>\n",
       "      <td>Graham, Miss. Margaret Edith</td>\n",
       "      <td>female</td>\n",
       "      <td>19.0</td>\n",
       "      <td>0</td>\n",
       "      <td>0</td>\n",
       "      <td>112053</td>\n",
       "      <td>30.0000</td>\n",
       "      <td>B42</td>\n",
       "      <td>S</td>\n",
       "      <td>Graham</td>\n",
       "      <td>Miss.</td>\n",
       "      <td>Margaret Edith</td>\n",
       "    </tr>\n",
       "    <tr>\n",
       "      <th>888</th>\n",
       "      <td>889</td>\n",
       "      <td>0</td>\n",
       "      <td>3</td>\n",
       "      <td>Johnston, Miss. Catherine Helen \"Carrie\"</td>\n",
       "      <td>female</td>\n",
       "      <td>NaN</td>\n",
       "      <td>1</td>\n",
       "      <td>2</td>\n",
       "      <td>W./C. 6607</td>\n",
       "      <td>23.4500</td>\n",
       "      <td>NaN</td>\n",
       "      <td>S</td>\n",
       "      <td>Johnston</td>\n",
       "      <td>Miss.</td>\n",
       "      <td>Catherine Helen \"Carrie\"</td>\n",
       "    </tr>\n",
       "    <tr>\n",
       "      <th>889</th>\n",
       "      <td>890</td>\n",
       "      <td>1</td>\n",
       "      <td>1</td>\n",
       "      <td>Behr, Mr. Karl Howell</td>\n",
       "      <td>male</td>\n",
       "      <td>26.0</td>\n",
       "      <td>0</td>\n",
       "      <td>0</td>\n",
       "      <td>111369</td>\n",
       "      <td>30.0000</td>\n",
       "      <td>C148</td>\n",
       "      <td>C</td>\n",
       "      <td>Behr</td>\n",
       "      <td>Mr.</td>\n",
       "      <td>Karl Howell</td>\n",
       "    </tr>\n",
       "    <tr>\n",
       "      <th>890</th>\n",
       "      <td>891</td>\n",
       "      <td>0</td>\n",
       "      <td>3</td>\n",
       "      <td>Dooley, Mr. Patrick</td>\n",
       "      <td>male</td>\n",
       "      <td>32.0</td>\n",
       "      <td>0</td>\n",
       "      <td>0</td>\n",
       "      <td>370376</td>\n",
       "      <td>7.7500</td>\n",
       "      <td>NaN</td>\n",
       "      <td>Q</td>\n",
       "      <td>Dooley</td>\n",
       "      <td>Mr.</td>\n",
       "      <td>Patrick</td>\n",
       "    </tr>\n",
       "  </tbody>\n",
       "</table>\n",
       "<p>891 rows × 15 columns</p>\n",
       "</div>"
      ],
      "text/plain": [
       "     PassengerId  Survived  Pclass  \\\n",
       "0              1         0       3   \n",
       "1              2         1       1   \n",
       "2              3         1       3   \n",
       "3              4         1       1   \n",
       "4              5         0       3   \n",
       "..           ...       ...     ...   \n",
       "886          887         0       2   \n",
       "887          888         1       1   \n",
       "888          889         0       3   \n",
       "889          890         1       1   \n",
       "890          891         0       3   \n",
       "\n",
       "                                                  Name     Sex   Age  SibSp  \\\n",
       "0                              Braund, Mr. Owen Harris    male  22.0      1   \n",
       "1    Cumings, Mrs. John Bradley (Florence Briggs Th...  female  38.0      1   \n",
       "2                               Heikkinen, Miss. Laina  female  26.0      0   \n",
       "3         Futrelle, Mrs. Jacques Heath (Lily May Peel)  female  35.0      1   \n",
       "4                             Allen, Mr. William Henry    male  35.0      0   \n",
       "..                                                 ...     ...   ...    ...   \n",
       "886                              Montvila, Rev. Juozas    male  27.0      0   \n",
       "887                       Graham, Miss. Margaret Edith  female  19.0      0   \n",
       "888           Johnston, Miss. Catherine Helen \"Carrie\"  female   NaN      1   \n",
       "889                              Behr, Mr. Karl Howell    male  26.0      0   \n",
       "890                                Dooley, Mr. Patrick    male  32.0      0   \n",
       "\n",
       "     Parch            Ticket     Fare Cabin Embarked  Last_name  Title  \\\n",
       "0        0         A/5 21171   7.2500   NaN        S     Braund    Mr.   \n",
       "1        0          PC 17599  71.2833   C85        C    Cumings   Mrs.   \n",
       "2        0  STON/O2. 3101282   7.9250   NaN        S  Heikkinen  Miss.   \n",
       "3        0            113803  53.1000  C123        S   Futrelle   Mrs.   \n",
       "4        0            373450   8.0500   NaN        S      Allen    Mr.   \n",
       "..     ...               ...      ...   ...      ...        ...    ...   \n",
       "886      0            211536  13.0000   NaN        S   Montvila   Rev.   \n",
       "887      0            112053  30.0000   B42        S     Graham  Miss.   \n",
       "888      2        W./C. 6607  23.4500   NaN        S   Johnston  Miss.   \n",
       "889      0            111369  30.0000  C148        C       Behr    Mr.   \n",
       "890      0            370376   7.7500   NaN        Q     Dooley    Mr.   \n",
       "\n",
       "                                 Firstname  \n",
       "0                              Owen Harris  \n",
       "1    John Bradley (Florence Briggs Thayer)  \n",
       "2                                    Laina  \n",
       "3            Jacques Heath (Lily May Peel)  \n",
       "4                            William Henry  \n",
       "..                                     ...  \n",
       "886                                 Juozas  \n",
       "887                         Margaret Edith  \n",
       "888               Catherine Helen \"Carrie\"  \n",
       "889                            Karl Howell  \n",
       "890                                Patrick  \n",
       "\n",
       "[891 rows x 15 columns]"
      ]
     },
     "execution_count": 35,
     "metadata": {},
     "output_type": "execute_result"
    }
   ],
   "source": [
    "df"
   ]
  },
  {
   "cell_type": "code",
   "execution_count": 36,
   "id": "64ef86c4-cb2a-4c60-9f4a-fa57679e34ba",
   "metadata": {},
   "outputs": [
    {
     "data": {
      "text/plain": [
       "Title\n",
       "Mr.          517\n",
       "Miss.        182\n",
       "Mrs.         125\n",
       "Master.       40\n",
       "Dr.            7\n",
       "Rev.           6\n",
       "Col.           2\n",
       "Mlle.          2\n",
       "Major.         2\n",
       "Ms.            1\n",
       "Mme.           1\n",
       "Don.           1\n",
       "Lady.          1\n",
       "Sir.           1\n",
       "Capt.          1\n",
       "the            1\n",
       "Jonkheer.      1\n",
       "Name: count, dtype: int64"
      ]
     },
     "execution_count": 36,
     "metadata": {},
     "output_type": "execute_result"
    }
   ],
   "source": [
    "df['Title'].value_counts()"
   ]
  },
  {
   "cell_type": "code",
   "execution_count": 37,
   "id": "5b0e8fb4-4ed7-443f-b8a9-577dc3debf29",
   "metadata": {},
   "outputs": [],
   "source": [
    "df['Title'] = df['Title'].str.replace('Ms','Miss')"
   ]
  },
  {
   "cell_type": "code",
   "execution_count": 38,
   "id": "871b9c85-1b35-49fb-9fb9-939560bd2f49",
   "metadata": {},
   "outputs": [
    {
     "data": {
      "text/plain": [
       "Title\n",
       "Mr.          517\n",
       "Miss.        183\n",
       "Mrs.         125\n",
       "Master.       40\n",
       "Dr.            7\n",
       "Rev.           6\n",
       "Mlle.          2\n",
       "Major.         2\n",
       "Col.           2\n",
       "Don.           1\n",
       "Mme.           1\n",
       "Lady.          1\n",
       "Sir.           1\n",
       "Capt.          1\n",
       "the            1\n",
       "Jonkheer.      1\n",
       "Name: count, dtype: int64"
      ]
     },
     "execution_count": 38,
     "metadata": {},
     "output_type": "execute_result"
    }
   ],
   "source": [
    "df['Title'].value_counts()"
   ]
  },
  {
   "cell_type": "code",
   "execution_count": 41,
   "id": "763584f4-34b6-4f3f-9767-be6b361cb130",
   "metadata": {},
   "outputs": [
    {
     "data": {
      "text/html": [
       "<div>\n",
       "<style scoped>\n",
       "    .dataframe tbody tr th:only-of-type {\n",
       "        vertical-align: middle;\n",
       "    }\n",
       "\n",
       "    .dataframe tbody tr th {\n",
       "        vertical-align: top;\n",
       "    }\n",
       "\n",
       "    .dataframe thead th {\n",
       "        text-align: right;\n",
       "    }\n",
       "</style>\n",
       "<table border=\"1\" class=\"dataframe\">\n",
       "  <thead>\n",
       "    <tr style=\"text-align: right;\">\n",
       "      <th></th>\n",
       "      <th>PassengerId</th>\n",
       "      <th>Survived</th>\n",
       "      <th>Pclass</th>\n",
       "      <th>Name</th>\n",
       "      <th>Sex</th>\n",
       "      <th>Age</th>\n",
       "      <th>SibSp</th>\n",
       "      <th>Parch</th>\n",
       "      <th>Ticket</th>\n",
       "      <th>Fare</th>\n",
       "      <th>Cabin</th>\n",
       "      <th>Embarked</th>\n",
       "      <th>Last_name</th>\n",
       "      <th>Title</th>\n",
       "      <th>Firstname</th>\n",
       "    </tr>\n",
       "  </thead>\n",
       "  <tbody>\n",
       "    <tr>\n",
       "      <th>64</th>\n",
       "      <td>65</td>\n",
       "      <td>0</td>\n",
       "      <td>1</td>\n",
       "      <td>Stewart, Mr. Albert A</td>\n",
       "      <td>male</td>\n",
       "      <td>NaN</td>\n",
       "      <td>0</td>\n",
       "      <td>0</td>\n",
       "      <td>PC 17605</td>\n",
       "      <td>27.7208</td>\n",
       "      <td>NaN</td>\n",
       "      <td>C</td>\n",
       "      <td>Stewart</td>\n",
       "      <td>Mr.</td>\n",
       "      <td>Albert A</td>\n",
       "    </tr>\n",
       "    <tr>\n",
       "      <th>303</th>\n",
       "      <td>304</td>\n",
       "      <td>1</td>\n",
       "      <td>2</td>\n",
       "      <td>Keane, Miss. Nora A</td>\n",
       "      <td>female</td>\n",
       "      <td>NaN</td>\n",
       "      <td>0</td>\n",
       "      <td>0</td>\n",
       "      <td>226593</td>\n",
       "      <td>12.3500</td>\n",
       "      <td>E101</td>\n",
       "      <td>Q</td>\n",
       "      <td>Keane</td>\n",
       "      <td>Miss.</td>\n",
       "      <td>Nora A</td>\n",
       "    </tr>\n",
       "  </tbody>\n",
       "</table>\n",
       "</div>"
      ],
      "text/plain": [
       "     PassengerId  Survived  Pclass                   Name     Sex  Age  SibSp  \\\n",
       "64            65         0       1  Stewart, Mr. Albert A    male  NaN      0   \n",
       "303          304         1       2    Keane, Miss. Nora A  female  NaN      0   \n",
       "\n",
       "     Parch    Ticket     Fare Cabin Embarked Last_name  Title Firstname  \n",
       "64       0  PC 17605  27.7208   NaN        C   Stewart    Mr.  Albert A  \n",
       "303      0    226593  12.3500  E101        Q     Keane  Miss.    Nora A  "
      ]
     },
     "execution_count": 41,
     "metadata": {},
     "output_type": "execute_result"
    }
   ],
   "source": [
    "df[df['Firstname'].str.endswith('A')]"
   ]
  },
  {
   "cell_type": "code",
   "execution_count": 43,
   "id": "8119129b-9d81-413e-8d0d-c51f34ed4dcb",
   "metadata": {
    "scrolled": true
   },
   "outputs": [
    {
     "data": {
      "text/html": [
       "<div>\n",
       "<style scoped>\n",
       "    .dataframe tbody tr th:only-of-type {\n",
       "        vertical-align: middle;\n",
       "    }\n",
       "\n",
       "    .dataframe tbody tr th {\n",
       "        vertical-align: top;\n",
       "    }\n",
       "\n",
       "    .dataframe thead th {\n",
       "        text-align: right;\n",
       "    }\n",
       "</style>\n",
       "<table border=\"1\" class=\"dataframe\">\n",
       "  <thead>\n",
       "    <tr style=\"text-align: right;\">\n",
       "      <th></th>\n",
       "      <th>PassengerId</th>\n",
       "      <th>Survived</th>\n",
       "      <th>Pclass</th>\n",
       "      <th>Name</th>\n",
       "      <th>Sex</th>\n",
       "      <th>Age</th>\n",
       "      <th>SibSp</th>\n",
       "      <th>Parch</th>\n",
       "      <th>Ticket</th>\n",
       "      <th>Fare</th>\n",
       "      <th>Cabin</th>\n",
       "      <th>Embarked</th>\n",
       "      <th>Last_name</th>\n",
       "      <th>Title</th>\n",
       "      <th>Firstname</th>\n",
       "    </tr>\n",
       "  </thead>\n",
       "  <tbody>\n",
       "    <tr>\n",
       "      <th>1</th>\n",
       "      <td>2</td>\n",
       "      <td>1</td>\n",
       "      <td>1</td>\n",
       "      <td>Cumings, Mrs. John Bradley (Florence Briggs Th...</td>\n",
       "      <td>female</td>\n",
       "      <td>38.0</td>\n",
       "      <td>1</td>\n",
       "      <td>0</td>\n",
       "      <td>PC 17599</td>\n",
       "      <td>71.2833</td>\n",
       "      <td>C85</td>\n",
       "      <td>C</td>\n",
       "      <td>Cumings</td>\n",
       "      <td>Mrs.</td>\n",
       "      <td>John Bradley (Florence Briggs Thayer)</td>\n",
       "    </tr>\n",
       "    <tr>\n",
       "      <th>41</th>\n",
       "      <td>42</td>\n",
       "      <td>0</td>\n",
       "      <td>2</td>\n",
       "      <td>Turpin, Mrs. William John Robert (Dorothy Ann ...</td>\n",
       "      <td>female</td>\n",
       "      <td>27.0</td>\n",
       "      <td>1</td>\n",
       "      <td>0</td>\n",
       "      <td>11668</td>\n",
       "      <td>21.0000</td>\n",
       "      <td>NaN</td>\n",
       "      <td>S</td>\n",
       "      <td>Turpin</td>\n",
       "      <td>Mrs.</td>\n",
       "      <td>William John Robert (Dorothy Ann Wonnacott)</td>\n",
       "    </tr>\n",
       "    <tr>\n",
       "      <th>45</th>\n",
       "      <td>46</td>\n",
       "      <td>0</td>\n",
       "      <td>3</td>\n",
       "      <td>Rogers, Mr. William John</td>\n",
       "      <td>male</td>\n",
       "      <td>NaN</td>\n",
       "      <td>0</td>\n",
       "      <td>0</td>\n",
       "      <td>S.C./A.4. 23567</td>\n",
       "      <td>8.0500</td>\n",
       "      <td>NaN</td>\n",
       "      <td>S</td>\n",
       "      <td>Rogers</td>\n",
       "      <td>Mr.</td>\n",
       "      <td>William John</td>\n",
       "    </tr>\n",
       "    <tr>\n",
       "      <th>98</th>\n",
       "      <td>99</td>\n",
       "      <td>1</td>\n",
       "      <td>2</td>\n",
       "      <td>Doling, Mrs. John T (Ada Julia Bone)</td>\n",
       "      <td>female</td>\n",
       "      <td>34.0</td>\n",
       "      <td>0</td>\n",
       "      <td>1</td>\n",
       "      <td>231919</td>\n",
       "      <td>23.0000</td>\n",
       "      <td>NaN</td>\n",
       "      <td>S</td>\n",
       "      <td>Doling</td>\n",
       "      <td>Mrs.</td>\n",
       "      <td>John T (Ada Julia Bone)</td>\n",
       "    </tr>\n",
       "    <tr>\n",
       "      <th>112</th>\n",
       "      <td>113</td>\n",
       "      <td>0</td>\n",
       "      <td>3</td>\n",
       "      <td>Barton, Mr. David John</td>\n",
       "      <td>male</td>\n",
       "      <td>22.0</td>\n",
       "      <td>0</td>\n",
       "      <td>0</td>\n",
       "      <td>324669</td>\n",
       "      <td>8.0500</td>\n",
       "      <td>NaN</td>\n",
       "      <td>S</td>\n",
       "      <td>Barton</td>\n",
       "      <td>Mr.</td>\n",
       "      <td>David John</td>\n",
       "    </tr>\n",
       "    <tr>\n",
       "      <th>117</th>\n",
       "      <td>118</td>\n",
       "      <td>0</td>\n",
       "      <td>2</td>\n",
       "      <td>Turpin, Mr. William John Robert</td>\n",
       "      <td>male</td>\n",
       "      <td>29.0</td>\n",
       "      <td>1</td>\n",
       "      <td>0</td>\n",
       "      <td>11668</td>\n",
       "      <td>21.0000</td>\n",
       "      <td>NaN</td>\n",
       "      <td>S</td>\n",
       "      <td>Turpin</td>\n",
       "      <td>Mr.</td>\n",
       "      <td>William John Robert</td>\n",
       "    </tr>\n",
       "    <tr>\n",
       "      <th>160</th>\n",
       "      <td>161</td>\n",
       "      <td>0</td>\n",
       "      <td>3</td>\n",
       "      <td>Cribb, Mr. John Hatfield</td>\n",
       "      <td>male</td>\n",
       "      <td>44.0</td>\n",
       "      <td>0</td>\n",
       "      <td>1</td>\n",
       "      <td>371362</td>\n",
       "      <td>16.1000</td>\n",
       "      <td>NaN</td>\n",
       "      <td>S</td>\n",
       "      <td>Cribb</td>\n",
       "      <td>Mr.</td>\n",
       "      <td>John Hatfield</td>\n",
       "    </tr>\n",
       "    <tr>\n",
       "      <th>162</th>\n",
       "      <td>163</td>\n",
       "      <td>0</td>\n",
       "      <td>3</td>\n",
       "      <td>Bengtsson, Mr. John Viktor</td>\n",
       "      <td>male</td>\n",
       "      <td>26.0</td>\n",
       "      <td>0</td>\n",
       "      <td>0</td>\n",
       "      <td>347068</td>\n",
       "      <td>7.7750</td>\n",
       "      <td>NaN</td>\n",
       "      <td>S</td>\n",
       "      <td>Bengtsson</td>\n",
       "      <td>Mr.</td>\n",
       "      <td>John Viktor</td>\n",
       "    </tr>\n",
       "    <tr>\n",
       "      <th>165</th>\n",
       "      <td>166</td>\n",
       "      <td>1</td>\n",
       "      <td>3</td>\n",
       "      <td>Goldsmith, Master. Frank John William \"Frankie\"</td>\n",
       "      <td>male</td>\n",
       "      <td>9.0</td>\n",
       "      <td>0</td>\n",
       "      <td>2</td>\n",
       "      <td>363291</td>\n",
       "      <td>20.5250</td>\n",
       "      <td>NaN</td>\n",
       "      <td>S</td>\n",
       "      <td>Goldsmith</td>\n",
       "      <td>Master.</td>\n",
       "      <td>Frank John William \"Frankie\"</td>\n",
       "    </tr>\n",
       "    <tr>\n",
       "      <th>168</th>\n",
       "      <td>169</td>\n",
       "      <td>0</td>\n",
       "      <td>1</td>\n",
       "      <td>Baumann, Mr. John D</td>\n",
       "      <td>male</td>\n",
       "      <td>NaN</td>\n",
       "      <td>0</td>\n",
       "      <td>0</td>\n",
       "      <td>PC 17318</td>\n",
       "      <td>25.9250</td>\n",
       "      <td>NaN</td>\n",
       "      <td>S</td>\n",
       "      <td>Baumann</td>\n",
       "      <td>Mr.</td>\n",
       "      <td>John D</td>\n",
       "    </tr>\n",
       "    <tr>\n",
       "      <th>188</th>\n",
       "      <td>189</td>\n",
       "      <td>0</td>\n",
       "      <td>3</td>\n",
       "      <td>Bourke, Mr. John</td>\n",
       "      <td>male</td>\n",
       "      <td>40.0</td>\n",
       "      <td>1</td>\n",
       "      <td>1</td>\n",
       "      <td>364849</td>\n",
       "      <td>15.5000</td>\n",
       "      <td>NaN</td>\n",
       "      <td>Q</td>\n",
       "      <td>Bourke</td>\n",
       "      <td>Mr.</td>\n",
       "      <td>John</td>\n",
       "    </tr>\n",
       "    <tr>\n",
       "      <th>212</th>\n",
       "      <td>213</td>\n",
       "      <td>0</td>\n",
       "      <td>3</td>\n",
       "      <td>Perkin, Mr. John Henry</td>\n",
       "      <td>male</td>\n",
       "      <td>22.0</td>\n",
       "      <td>0</td>\n",
       "      <td>0</td>\n",
       "      <td>A/5 21174</td>\n",
       "      <td>7.2500</td>\n",
       "      <td>NaN</td>\n",
       "      <td>S</td>\n",
       "      <td>Perkin</td>\n",
       "      <td>Mr.</td>\n",
       "      <td>John Henry</td>\n",
       "    </tr>\n",
       "    <tr>\n",
       "      <th>226</th>\n",
       "      <td>227</td>\n",
       "      <td>1</td>\n",
       "      <td>2</td>\n",
       "      <td>Mellors, Mr. William John</td>\n",
       "      <td>male</td>\n",
       "      <td>19.0</td>\n",
       "      <td>0</td>\n",
       "      <td>0</td>\n",
       "      <td>SW/PP 751</td>\n",
       "      <td>10.5000</td>\n",
       "      <td>NaN</td>\n",
       "      <td>S</td>\n",
       "      <td>Mellors</td>\n",
       "      <td>Mr.</td>\n",
       "      <td>William John</td>\n",
       "    </tr>\n",
       "    <tr>\n",
       "      <th>227</th>\n",
       "      <td>228</td>\n",
       "      <td>0</td>\n",
       "      <td>3</td>\n",
       "      <td>Lovell, Mr. John Hall (\"Henry\")</td>\n",
       "      <td>male</td>\n",
       "      <td>20.5</td>\n",
       "      <td>0</td>\n",
       "      <td>0</td>\n",
       "      <td>A/5 21173</td>\n",
       "      <td>7.2500</td>\n",
       "      <td>NaN</td>\n",
       "      <td>S</td>\n",
       "      <td>Lovell</td>\n",
       "      <td>Mr.</td>\n",
       "      <td>John Hall (\"Henry\")</td>\n",
       "    </tr>\n",
       "    <tr>\n",
       "      <th>324</th>\n",
       "      <td>325</td>\n",
       "      <td>0</td>\n",
       "      <td>3</td>\n",
       "      <td>Sage, Mr. George John Jr</td>\n",
       "      <td>male</td>\n",
       "      <td>NaN</td>\n",
       "      <td>8</td>\n",
       "      <td>2</td>\n",
       "      <td>CA. 2343</td>\n",
       "      <td>69.5500</td>\n",
       "      <td>NaN</td>\n",
       "      <td>S</td>\n",
       "      <td>Sage</td>\n",
       "      <td>Mr.</td>\n",
       "      <td>George John Jr</td>\n",
       "    </tr>\n",
       "    <tr>\n",
       "      <th>328</th>\n",
       "      <td>329</td>\n",
       "      <td>1</td>\n",
       "      <td>3</td>\n",
       "      <td>Goldsmith, Mrs. Frank John (Emily Alice Brown)</td>\n",
       "      <td>female</td>\n",
       "      <td>31.0</td>\n",
       "      <td>1</td>\n",
       "      <td>1</td>\n",
       "      <td>363291</td>\n",
       "      <td>20.5250</td>\n",
       "      <td>NaN</td>\n",
       "      <td>S</td>\n",
       "      <td>Goldsmith</td>\n",
       "      <td>Mrs.</td>\n",
       "      <td>Frank John (Emily Alice Brown)</td>\n",
       "    </tr>\n",
       "    <tr>\n",
       "      <th>401</th>\n",
       "      <td>402</td>\n",
       "      <td>0</td>\n",
       "      <td>3</td>\n",
       "      <td>Adams, Mr. John</td>\n",
       "      <td>male</td>\n",
       "      <td>26.0</td>\n",
       "      <td>0</td>\n",
       "      <td>0</td>\n",
       "      <td>341826</td>\n",
       "      <td>8.0500</td>\n",
       "      <td>NaN</td>\n",
       "      <td>S</td>\n",
       "      <td>Adams</td>\n",
       "      <td>Mr.</td>\n",
       "      <td>John</td>\n",
       "    </tr>\n",
       "    <tr>\n",
       "      <th>418</th>\n",
       "      <td>419</td>\n",
       "      <td>0</td>\n",
       "      <td>2</td>\n",
       "      <td>Matthews, Mr. William John</td>\n",
       "      <td>male</td>\n",
       "      <td>30.0</td>\n",
       "      <td>0</td>\n",
       "      <td>0</td>\n",
       "      <td>28228</td>\n",
       "      <td>13.0000</td>\n",
       "      <td>NaN</td>\n",
       "      <td>S</td>\n",
       "      <td>Matthews</td>\n",
       "      <td>Mr.</td>\n",
       "      <td>William John</td>\n",
       "    </tr>\n",
       "    <tr>\n",
       "      <th>467</th>\n",
       "      <td>468</td>\n",
       "      <td>0</td>\n",
       "      <td>1</td>\n",
       "      <td>Smart, Mr. John Montgomery</td>\n",
       "      <td>male</td>\n",
       "      <td>56.0</td>\n",
       "      <td>0</td>\n",
       "      <td>0</td>\n",
       "      <td>113792</td>\n",
       "      <td>26.5500</td>\n",
       "      <td>NaN</td>\n",
       "      <td>S</td>\n",
       "      <td>Smart</td>\n",
       "      <td>Mr.</td>\n",
       "      <td>John Montgomery</td>\n",
       "    </tr>\n",
       "    <tr>\n",
       "      <th>527</th>\n",
       "      <td>528</td>\n",
       "      <td>0</td>\n",
       "      <td>1</td>\n",
       "      <td>Farthing, Mr. John</td>\n",
       "      <td>male</td>\n",
       "      <td>NaN</td>\n",
       "      <td>0</td>\n",
       "      <td>0</td>\n",
       "      <td>PC 17483</td>\n",
       "      <td>221.7792</td>\n",
       "      <td>C95</td>\n",
       "      <td>S</td>\n",
       "      <td>Farthing</td>\n",
       "      <td>Mr.</td>\n",
       "      <td>John</td>\n",
       "    </tr>\n",
       "    <tr>\n",
       "      <th>548</th>\n",
       "      <td>549</td>\n",
       "      <td>0</td>\n",
       "      <td>3</td>\n",
       "      <td>Goldsmith, Mr. Frank John</td>\n",
       "      <td>male</td>\n",
       "      <td>33.0</td>\n",
       "      <td>1</td>\n",
       "      <td>1</td>\n",
       "      <td>363291</td>\n",
       "      <td>20.5250</td>\n",
       "      <td>NaN</td>\n",
       "      <td>S</td>\n",
       "      <td>Goldsmith</td>\n",
       "      <td>Mr.</td>\n",
       "      <td>Frank John</td>\n",
       "    </tr>\n",
       "    <tr>\n",
       "      <th>549</th>\n",
       "      <td>550</td>\n",
       "      <td>1</td>\n",
       "      <td>2</td>\n",
       "      <td>Davies, Master. John Morgan Jr</td>\n",
       "      <td>male</td>\n",
       "      <td>8.0</td>\n",
       "      <td>1</td>\n",
       "      <td>1</td>\n",
       "      <td>C.A. 33112</td>\n",
       "      <td>36.7500</td>\n",
       "      <td>NaN</td>\n",
       "      <td>S</td>\n",
       "      <td>Davies</td>\n",
       "      <td>Master.</td>\n",
       "      <td>John Morgan Jr</td>\n",
       "    </tr>\n",
       "    <tr>\n",
       "      <th>550</th>\n",
       "      <td>551</td>\n",
       "      <td>1</td>\n",
       "      <td>1</td>\n",
       "      <td>Thayer, Mr. John Borland Jr</td>\n",
       "      <td>male</td>\n",
       "      <td>17.0</td>\n",
       "      <td>0</td>\n",
       "      <td>2</td>\n",
       "      <td>17421</td>\n",
       "      <td>110.8833</td>\n",
       "      <td>C70</td>\n",
       "      <td>C</td>\n",
       "      <td>Thayer</td>\n",
       "      <td>Mr.</td>\n",
       "      <td>John Borland Jr</td>\n",
       "    </tr>\n",
       "    <tr>\n",
       "      <th>563</th>\n",
       "      <td>564</td>\n",
       "      <td>0</td>\n",
       "      <td>3</td>\n",
       "      <td>Simmons, Mr. John</td>\n",
       "      <td>male</td>\n",
       "      <td>NaN</td>\n",
       "      <td>0</td>\n",
       "      <td>0</td>\n",
       "      <td>SOTON/OQ 392082</td>\n",
       "      <td>8.0500</td>\n",
       "      <td>NaN</td>\n",
       "      <td>S</td>\n",
       "      <td>Simmons</td>\n",
       "      <td>Mr.</td>\n",
       "      <td>John</td>\n",
       "    </tr>\n",
       "    <tr>\n",
       "      <th>572</th>\n",
       "      <td>573</td>\n",
       "      <td>1</td>\n",
       "      <td>1</td>\n",
       "      <td>Flynn, Mr. John Irwin (\"Irving\")</td>\n",
       "      <td>male</td>\n",
       "      <td>36.0</td>\n",
       "      <td>0</td>\n",
       "      <td>0</td>\n",
       "      <td>PC 17474</td>\n",
       "      <td>26.3875</td>\n",
       "      <td>E25</td>\n",
       "      <td>S</td>\n",
       "      <td>Flynn</td>\n",
       "      <td>Mr.</td>\n",
       "      <td>John Irwin (\"Irving\")</td>\n",
       "    </tr>\n",
       "    <tr>\n",
       "      <th>574</th>\n",
       "      <td>575</td>\n",
       "      <td>0</td>\n",
       "      <td>3</td>\n",
       "      <td>Rush, Mr. Alfred George John</td>\n",
       "      <td>male</td>\n",
       "      <td>16.0</td>\n",
       "      <td>0</td>\n",
       "      <td>0</td>\n",
       "      <td>A/4. 20589</td>\n",
       "      <td>8.0500</td>\n",
       "      <td>NaN</td>\n",
       "      <td>S</td>\n",
       "      <td>Rush</td>\n",
       "      <td>Mr.</td>\n",
       "      <td>Alfred George John</td>\n",
       "    </tr>\n",
       "    <tr>\n",
       "      <th>581</th>\n",
       "      <td>582</td>\n",
       "      <td>1</td>\n",
       "      <td>1</td>\n",
       "      <td>Thayer, Mrs. John Borland (Marian Longstreth M...</td>\n",
       "      <td>female</td>\n",
       "      <td>39.0</td>\n",
       "      <td>1</td>\n",
       "      <td>1</td>\n",
       "      <td>17421</td>\n",
       "      <td>110.8833</td>\n",
       "      <td>C68</td>\n",
       "      <td>C</td>\n",
       "      <td>Thayer</td>\n",
       "      <td>Mrs.</td>\n",
       "      <td>John Borland (Marian Longstreth Morris)</td>\n",
       "    </tr>\n",
       "    <tr>\n",
       "      <th>583</th>\n",
       "      <td>584</td>\n",
       "      <td>0</td>\n",
       "      <td>1</td>\n",
       "      <td>Ross, Mr. John Hugo</td>\n",
       "      <td>male</td>\n",
       "      <td>36.0</td>\n",
       "      <td>0</td>\n",
       "      <td>0</td>\n",
       "      <td>13049</td>\n",
       "      <td>40.1250</td>\n",
       "      <td>A10</td>\n",
       "      <td>C</td>\n",
       "      <td>Ross</td>\n",
       "      <td>Mr.</td>\n",
       "      <td>John Hugo</td>\n",
       "    </tr>\n",
       "    <tr>\n",
       "      <th>586</th>\n",
       "      <td>587</td>\n",
       "      <td>0</td>\n",
       "      <td>2</td>\n",
       "      <td>Jarvis, Mr. John Denzil</td>\n",
       "      <td>male</td>\n",
       "      <td>47.0</td>\n",
       "      <td>0</td>\n",
       "      <td>0</td>\n",
       "      <td>237565</td>\n",
       "      <td>15.0000</td>\n",
       "      <td>NaN</td>\n",
       "      <td>S</td>\n",
       "      <td>Jarvis</td>\n",
       "      <td>Mr.</td>\n",
       "      <td>John Denzil</td>\n",
       "    </tr>\n",
       "    <tr>\n",
       "      <th>594</th>\n",
       "      <td>595</td>\n",
       "      <td>0</td>\n",
       "      <td>2</td>\n",
       "      <td>Chapman, Mr. John Henry</td>\n",
       "      <td>male</td>\n",
       "      <td>37.0</td>\n",
       "      <td>1</td>\n",
       "      <td>0</td>\n",
       "      <td>SC/AH 29037</td>\n",
       "      <td>26.0000</td>\n",
       "      <td>NaN</td>\n",
       "      <td>S</td>\n",
       "      <td>Chapman</td>\n",
       "      <td>Mr.</td>\n",
       "      <td>John Henry</td>\n",
       "    </tr>\n",
       "    <tr>\n",
       "      <th>613</th>\n",
       "      <td>614</td>\n",
       "      <td>0</td>\n",
       "      <td>3</td>\n",
       "      <td>Horgan, Mr. John</td>\n",
       "      <td>male</td>\n",
       "      <td>NaN</td>\n",
       "      <td>0</td>\n",
       "      <td>0</td>\n",
       "      <td>370377</td>\n",
       "      <td>7.7500</td>\n",
       "      <td>NaN</td>\n",
       "      <td>Q</td>\n",
       "      <td>Horgan</td>\n",
       "      <td>Mr.</td>\n",
       "      <td>John</td>\n",
       "    </tr>\n",
       "    <tr>\n",
       "      <th>624</th>\n",
       "      <td>625</td>\n",
       "      <td>0</td>\n",
       "      <td>3</td>\n",
       "      <td>Bowen, Mr. David John \"Dai\"</td>\n",
       "      <td>male</td>\n",
       "      <td>21.0</td>\n",
       "      <td>0</td>\n",
       "      <td>0</td>\n",
       "      <td>54636</td>\n",
       "      <td>16.1000</td>\n",
       "      <td>NaN</td>\n",
       "      <td>S</td>\n",
       "      <td>Bowen</td>\n",
       "      <td>Mr.</td>\n",
       "      <td>David John \"Dai\"</td>\n",
       "    </tr>\n",
       "    <tr>\n",
       "      <th>657</th>\n",
       "      <td>658</td>\n",
       "      <td>0</td>\n",
       "      <td>3</td>\n",
       "      <td>Bourke, Mrs. John (Catherine)</td>\n",
       "      <td>female</td>\n",
       "      <td>32.0</td>\n",
       "      <td>1</td>\n",
       "      <td>1</td>\n",
       "      <td>364849</td>\n",
       "      <td>15.5000</td>\n",
       "      <td>NaN</td>\n",
       "      <td>Q</td>\n",
       "      <td>Bourke</td>\n",
       "      <td>Mrs.</td>\n",
       "      <td>John (Catherine)</td>\n",
       "    </tr>\n",
       "    <tr>\n",
       "      <th>694</th>\n",
       "      <td>695</td>\n",
       "      <td>0</td>\n",
       "      <td>1</td>\n",
       "      <td>Weir, Col. John</td>\n",
       "      <td>male</td>\n",
       "      <td>60.0</td>\n",
       "      <td>0</td>\n",
       "      <td>0</td>\n",
       "      <td>113800</td>\n",
       "      <td>26.5500</td>\n",
       "      <td>NaN</td>\n",
       "      <td>S</td>\n",
       "      <td>Weir</td>\n",
       "      <td>Col.</td>\n",
       "      <td>John</td>\n",
       "    </tr>\n",
       "    <tr>\n",
       "      <th>698</th>\n",
       "      <td>699</td>\n",
       "      <td>0</td>\n",
       "      <td>1</td>\n",
       "      <td>Thayer, Mr. John Borland</td>\n",
       "      <td>male</td>\n",
       "      <td>49.0</td>\n",
       "      <td>1</td>\n",
       "      <td>1</td>\n",
       "      <td>17421</td>\n",
       "      <td>110.8833</td>\n",
       "      <td>C68</td>\n",
       "      <td>C</td>\n",
       "      <td>Thayer</td>\n",
       "      <td>Mr.</td>\n",
       "      <td>John Borland</td>\n",
       "    </tr>\n",
       "    <tr>\n",
       "      <th>700</th>\n",
       "      <td>701</td>\n",
       "      <td>1</td>\n",
       "      <td>1</td>\n",
       "      <td>Astor, Mrs. John Jacob (Madeleine Talmadge Force)</td>\n",
       "      <td>female</td>\n",
       "      <td>18.0</td>\n",
       "      <td>1</td>\n",
       "      <td>0</td>\n",
       "      <td>PC 17757</td>\n",
       "      <td>227.5250</td>\n",
       "      <td>C62 C64</td>\n",
       "      <td>C</td>\n",
       "      <td>Astor</td>\n",
       "      <td>Mrs.</td>\n",
       "      <td>John Jacob (Madeleine Talmadge Force)</td>\n",
       "    </tr>\n",
       "    <tr>\n",
       "      <th>733</th>\n",
       "      <td>734</td>\n",
       "      <td>0</td>\n",
       "      <td>2</td>\n",
       "      <td>Berriman, Mr. William John</td>\n",
       "      <td>male</td>\n",
       "      <td>23.0</td>\n",
       "      <td>0</td>\n",
       "      <td>0</td>\n",
       "      <td>28425</td>\n",
       "      <td>13.0000</td>\n",
       "      <td>NaN</td>\n",
       "      <td>S</td>\n",
       "      <td>Berriman</td>\n",
       "      <td>Mr.</td>\n",
       "      <td>William John</td>\n",
       "    </tr>\n",
       "    <tr>\n",
       "      <th>760</th>\n",
       "      <td>761</td>\n",
       "      <td>0</td>\n",
       "      <td>3</td>\n",
       "      <td>Garfirth, Mr. John</td>\n",
       "      <td>male</td>\n",
       "      <td>NaN</td>\n",
       "      <td>0</td>\n",
       "      <td>0</td>\n",
       "      <td>358585</td>\n",
       "      <td>14.5000</td>\n",
       "      <td>NaN</td>\n",
       "      <td>S</td>\n",
       "      <td>Garfirth</td>\n",
       "      <td>Mr.</td>\n",
       "      <td>John</td>\n",
       "    </tr>\n",
       "    <tr>\n",
       "      <th>765</th>\n",
       "      <td>766</td>\n",
       "      <td>1</td>\n",
       "      <td>1</td>\n",
       "      <td>Hogeboom, Mrs. John C (Anna Andrews)</td>\n",
       "      <td>female</td>\n",
       "      <td>51.0</td>\n",
       "      <td>1</td>\n",
       "      <td>0</td>\n",
       "      <td>13502</td>\n",
       "      <td>77.9583</td>\n",
       "      <td>D11</td>\n",
       "      <td>S</td>\n",
       "      <td>Hogeboom</td>\n",
       "      <td>Mrs.</td>\n",
       "      <td>John C (Anna Andrews)</td>\n",
       "    </tr>\n",
       "    <tr>\n",
       "      <th>818</th>\n",
       "      <td>819</td>\n",
       "      <td>0</td>\n",
       "      <td>3</td>\n",
       "      <td>Holm, Mr. John Fredrik Alexander</td>\n",
       "      <td>male</td>\n",
       "      <td>43.0</td>\n",
       "      <td>0</td>\n",
       "      <td>0</td>\n",
       "      <td>C 7075</td>\n",
       "      <td>6.4500</td>\n",
       "      <td>NaN</td>\n",
       "      <td>S</td>\n",
       "      <td>Holm</td>\n",
       "      <td>Mr.</td>\n",
       "      <td>John Fredrik Alexander</td>\n",
       "    </tr>\n",
       "    <tr>\n",
       "      <th>822</th>\n",
       "      <td>823</td>\n",
       "      <td>0</td>\n",
       "      <td>1</td>\n",
       "      <td>Reuchlin, Jonkheer. John George</td>\n",
       "      <td>male</td>\n",
       "      <td>38.0</td>\n",
       "      <td>0</td>\n",
       "      <td>0</td>\n",
       "      <td>19972</td>\n",
       "      <td>0.0000</td>\n",
       "      <td>NaN</td>\n",
       "      <td>S</td>\n",
       "      <td>Reuchlin</td>\n",
       "      <td>Jonkheer.</td>\n",
       "      <td>John George</td>\n",
       "    </tr>\n",
       "    <tr>\n",
       "      <th>825</th>\n",
       "      <td>826</td>\n",
       "      <td>0</td>\n",
       "      <td>3</td>\n",
       "      <td>Flynn, Mr. John</td>\n",
       "      <td>male</td>\n",
       "      <td>NaN</td>\n",
       "      <td>0</td>\n",
       "      <td>0</td>\n",
       "      <td>368323</td>\n",
       "      <td>6.9500</td>\n",
       "      <td>NaN</td>\n",
       "      <td>Q</td>\n",
       "      <td>Flynn</td>\n",
       "      <td>Mr.</td>\n",
       "      <td>John</td>\n",
       "    </tr>\n",
       "    <tr>\n",
       "      <th>848</th>\n",
       "      <td>849</td>\n",
       "      <td>0</td>\n",
       "      <td>2</td>\n",
       "      <td>Harper, Rev. John</td>\n",
       "      <td>male</td>\n",
       "      <td>28.0</td>\n",
       "      <td>0</td>\n",
       "      <td>1</td>\n",
       "      <td>248727</td>\n",
       "      <td>33.0000</td>\n",
       "      <td>NaN</td>\n",
       "      <td>S</td>\n",
       "      <td>Harper</td>\n",
       "      <td>Rev.</td>\n",
       "      <td>John</td>\n",
       "    </tr>\n",
       "    <tr>\n",
       "      <th>864</th>\n",
       "      <td>865</td>\n",
       "      <td>0</td>\n",
       "      <td>2</td>\n",
       "      <td>Gill, Mr. John William</td>\n",
       "      <td>male</td>\n",
       "      <td>24.0</td>\n",
       "      <td>0</td>\n",
       "      <td>0</td>\n",
       "      <td>233866</td>\n",
       "      <td>13.0000</td>\n",
       "      <td>NaN</td>\n",
       "      <td>S</td>\n",
       "      <td>Gill</td>\n",
       "      <td>Mr.</td>\n",
       "      <td>John William</td>\n",
       "    </tr>\n",
       "  </tbody>\n",
       "</table>\n",
       "</div>"
      ],
      "text/plain": [
       "     PassengerId  Survived  Pclass  \\\n",
       "1              2         1       1   \n",
       "41            42         0       2   \n",
       "45            46         0       3   \n",
       "98            99         1       2   \n",
       "112          113         0       3   \n",
       "117          118         0       2   \n",
       "160          161         0       3   \n",
       "162          163         0       3   \n",
       "165          166         1       3   \n",
       "168          169         0       1   \n",
       "188          189         0       3   \n",
       "212          213         0       3   \n",
       "226          227         1       2   \n",
       "227          228         0       3   \n",
       "324          325         0       3   \n",
       "328          329         1       3   \n",
       "401          402         0       3   \n",
       "418          419         0       2   \n",
       "467          468         0       1   \n",
       "527          528         0       1   \n",
       "548          549         0       3   \n",
       "549          550         1       2   \n",
       "550          551         1       1   \n",
       "563          564         0       3   \n",
       "572          573         1       1   \n",
       "574          575         0       3   \n",
       "581          582         1       1   \n",
       "583          584         0       1   \n",
       "586          587         0       2   \n",
       "594          595         0       2   \n",
       "613          614         0       3   \n",
       "624          625         0       3   \n",
       "657          658         0       3   \n",
       "694          695         0       1   \n",
       "698          699         0       1   \n",
       "700          701         1       1   \n",
       "733          734         0       2   \n",
       "760          761         0       3   \n",
       "765          766         1       1   \n",
       "818          819         0       3   \n",
       "822          823         0       1   \n",
       "825          826         0       3   \n",
       "848          849         0       2   \n",
       "864          865         0       2   \n",
       "\n",
       "                                                  Name     Sex   Age  SibSp  \\\n",
       "1    Cumings, Mrs. John Bradley (Florence Briggs Th...  female  38.0      1   \n",
       "41   Turpin, Mrs. William John Robert (Dorothy Ann ...  female  27.0      1   \n",
       "45                            Rogers, Mr. William John    male   NaN      0   \n",
       "98                Doling, Mrs. John T (Ada Julia Bone)  female  34.0      0   \n",
       "112                             Barton, Mr. David John    male  22.0      0   \n",
       "117                    Turpin, Mr. William John Robert    male  29.0      1   \n",
       "160                           Cribb, Mr. John Hatfield    male  44.0      0   \n",
       "162                         Bengtsson, Mr. John Viktor    male  26.0      0   \n",
       "165    Goldsmith, Master. Frank John William \"Frankie\"    male   9.0      0   \n",
       "168                                Baumann, Mr. John D    male   NaN      0   \n",
       "188                                   Bourke, Mr. John    male  40.0      1   \n",
       "212                             Perkin, Mr. John Henry    male  22.0      0   \n",
       "226                          Mellors, Mr. William John    male  19.0      0   \n",
       "227                    Lovell, Mr. John Hall (\"Henry\")    male  20.5      0   \n",
       "324                           Sage, Mr. George John Jr    male   NaN      8   \n",
       "328     Goldsmith, Mrs. Frank John (Emily Alice Brown)  female  31.0      1   \n",
       "401                                    Adams, Mr. John    male  26.0      0   \n",
       "418                         Matthews, Mr. William John    male  30.0      0   \n",
       "467                         Smart, Mr. John Montgomery    male  56.0      0   \n",
       "527                                 Farthing, Mr. John    male   NaN      0   \n",
       "548                          Goldsmith, Mr. Frank John    male  33.0      1   \n",
       "549                     Davies, Master. John Morgan Jr    male   8.0      1   \n",
       "550                        Thayer, Mr. John Borland Jr    male  17.0      0   \n",
       "563                                  Simmons, Mr. John    male   NaN      0   \n",
       "572                   Flynn, Mr. John Irwin (\"Irving\")    male  36.0      0   \n",
       "574                       Rush, Mr. Alfred George John    male  16.0      0   \n",
       "581  Thayer, Mrs. John Borland (Marian Longstreth M...  female  39.0      1   \n",
       "583                                Ross, Mr. John Hugo    male  36.0      0   \n",
       "586                            Jarvis, Mr. John Denzil    male  47.0      0   \n",
       "594                            Chapman, Mr. John Henry    male  37.0      1   \n",
       "613                                   Horgan, Mr. John    male   NaN      0   \n",
       "624                        Bowen, Mr. David John \"Dai\"    male  21.0      0   \n",
       "657                      Bourke, Mrs. John (Catherine)  female  32.0      1   \n",
       "694                                    Weir, Col. John    male  60.0      0   \n",
       "698                           Thayer, Mr. John Borland    male  49.0      1   \n",
       "700  Astor, Mrs. John Jacob (Madeleine Talmadge Force)  female  18.0      1   \n",
       "733                         Berriman, Mr. William John    male  23.0      0   \n",
       "760                                 Garfirth, Mr. John    male   NaN      0   \n",
       "765               Hogeboom, Mrs. John C (Anna Andrews)  female  51.0      1   \n",
       "818                   Holm, Mr. John Fredrik Alexander    male  43.0      0   \n",
       "822                    Reuchlin, Jonkheer. John George    male  38.0      0   \n",
       "825                                    Flynn, Mr. John    male   NaN      0   \n",
       "848                                  Harper, Rev. John    male  28.0      0   \n",
       "864                             Gill, Mr. John William    male  24.0      0   \n",
       "\n",
       "     Parch           Ticket      Fare    Cabin Embarked  Last_name      Title  \\\n",
       "1        0         PC 17599   71.2833      C85        C    Cumings       Mrs.   \n",
       "41       0            11668   21.0000      NaN        S     Turpin       Mrs.   \n",
       "45       0  S.C./A.4. 23567    8.0500      NaN        S     Rogers        Mr.   \n",
       "98       1           231919   23.0000      NaN        S     Doling       Mrs.   \n",
       "112      0           324669    8.0500      NaN        S     Barton        Mr.   \n",
       "117      0            11668   21.0000      NaN        S     Turpin        Mr.   \n",
       "160      1           371362   16.1000      NaN        S      Cribb        Mr.   \n",
       "162      0           347068    7.7750      NaN        S  Bengtsson        Mr.   \n",
       "165      2           363291   20.5250      NaN        S  Goldsmith    Master.   \n",
       "168      0         PC 17318   25.9250      NaN        S    Baumann        Mr.   \n",
       "188      1           364849   15.5000      NaN        Q     Bourke        Mr.   \n",
       "212      0        A/5 21174    7.2500      NaN        S     Perkin        Mr.   \n",
       "226      0        SW/PP 751   10.5000      NaN        S    Mellors        Mr.   \n",
       "227      0        A/5 21173    7.2500      NaN        S     Lovell        Mr.   \n",
       "324      2         CA. 2343   69.5500      NaN        S       Sage        Mr.   \n",
       "328      1           363291   20.5250      NaN        S  Goldsmith       Mrs.   \n",
       "401      0           341826    8.0500      NaN        S      Adams        Mr.   \n",
       "418      0            28228   13.0000      NaN        S   Matthews        Mr.   \n",
       "467      0           113792   26.5500      NaN        S      Smart        Mr.   \n",
       "527      0         PC 17483  221.7792      C95        S   Farthing        Mr.   \n",
       "548      1           363291   20.5250      NaN        S  Goldsmith        Mr.   \n",
       "549      1       C.A. 33112   36.7500      NaN        S     Davies    Master.   \n",
       "550      2            17421  110.8833      C70        C     Thayer        Mr.   \n",
       "563      0  SOTON/OQ 392082    8.0500      NaN        S    Simmons        Mr.   \n",
       "572      0         PC 17474   26.3875      E25        S      Flynn        Mr.   \n",
       "574      0       A/4. 20589    8.0500      NaN        S       Rush        Mr.   \n",
       "581      1            17421  110.8833      C68        C     Thayer       Mrs.   \n",
       "583      0            13049   40.1250      A10        C       Ross        Mr.   \n",
       "586      0           237565   15.0000      NaN        S     Jarvis        Mr.   \n",
       "594      0      SC/AH 29037   26.0000      NaN        S    Chapman        Mr.   \n",
       "613      0           370377    7.7500      NaN        Q     Horgan        Mr.   \n",
       "624      0            54636   16.1000      NaN        S      Bowen        Mr.   \n",
       "657      1           364849   15.5000      NaN        Q     Bourke       Mrs.   \n",
       "694      0           113800   26.5500      NaN        S       Weir       Col.   \n",
       "698      1            17421  110.8833      C68        C     Thayer        Mr.   \n",
       "700      0         PC 17757  227.5250  C62 C64        C      Astor       Mrs.   \n",
       "733      0            28425   13.0000      NaN        S   Berriman        Mr.   \n",
       "760      0           358585   14.5000      NaN        S   Garfirth        Mr.   \n",
       "765      0            13502   77.9583      D11        S   Hogeboom       Mrs.   \n",
       "818      0           C 7075    6.4500      NaN        S       Holm        Mr.   \n",
       "822      0            19972    0.0000      NaN        S   Reuchlin  Jonkheer.   \n",
       "825      0           368323    6.9500      NaN        Q      Flynn        Mr.   \n",
       "848      1           248727   33.0000      NaN        S     Harper       Rev.   \n",
       "864      0           233866   13.0000      NaN        S       Gill        Mr.   \n",
       "\n",
       "                                       Firstname  \n",
       "1          John Bradley (Florence Briggs Thayer)  \n",
       "41   William John Robert (Dorothy Ann Wonnacott)  \n",
       "45                                  William John  \n",
       "98                       John T (Ada Julia Bone)  \n",
       "112                                   David John  \n",
       "117                          William John Robert  \n",
       "160                                John Hatfield  \n",
       "162                                  John Viktor  \n",
       "165                 Frank John William \"Frankie\"  \n",
       "168                                       John D  \n",
       "188                                         John  \n",
       "212                                   John Henry  \n",
       "226                                 William John  \n",
       "227                          John Hall (\"Henry\")  \n",
       "324                               George John Jr  \n",
       "328               Frank John (Emily Alice Brown)  \n",
       "401                                         John  \n",
       "418                                 William John  \n",
       "467                              John Montgomery  \n",
       "527                                         John  \n",
       "548                                   Frank John  \n",
       "549                               John Morgan Jr  \n",
       "550                              John Borland Jr  \n",
       "563                                         John  \n",
       "572                        John Irwin (\"Irving\")  \n",
       "574                           Alfred George John  \n",
       "581      John Borland (Marian Longstreth Morris)  \n",
       "583                                    John Hugo  \n",
       "586                                  John Denzil  \n",
       "594                                   John Henry  \n",
       "613                                         John  \n",
       "624                             David John \"Dai\"  \n",
       "657                             John (Catherine)  \n",
       "694                                         John  \n",
       "698                                 John Borland  \n",
       "700        John Jacob (Madeleine Talmadge Force)  \n",
       "733                                 William John  \n",
       "760                                         John  \n",
       "765                        John C (Anna Andrews)  \n",
       "818                       John Fredrik Alexander  \n",
       "822                                  John George  \n",
       "825                                         John  \n",
       "848                                         John  \n",
       "864                                 John William  "
      ]
     },
     "execution_count": 43,
     "metadata": {},
     "output_type": "execute_result"
    }
   ],
   "source": [
    "df[df['Firstname'].str.contains('john',case=False)]"
   ]
  },
  {
   "cell_type": "code",
   "execution_count": 45,
   "id": "08627c8a-1c64-4740-9fe5-3870e5a75b93",
   "metadata": {},
   "outputs": [
    {
     "data": {
      "text/html": [
       "<div>\n",
       "<style scoped>\n",
       "    .dataframe tbody tr th:only-of-type {\n",
       "        vertical-align: middle;\n",
       "    }\n",
       "\n",
       "    .dataframe tbody tr th {\n",
       "        vertical-align: top;\n",
       "    }\n",
       "\n",
       "    .dataframe thead th {\n",
       "        text-align: right;\n",
       "    }\n",
       "</style>\n",
       "<table border=\"1\" class=\"dataframe\">\n",
       "  <thead>\n",
       "    <tr style=\"text-align: right;\">\n",
       "      <th></th>\n",
       "      <th>PassengerId</th>\n",
       "      <th>Survived</th>\n",
       "      <th>Pclass</th>\n",
       "      <th>Name</th>\n",
       "      <th>Sex</th>\n",
       "      <th>Age</th>\n",
       "      <th>SibSp</th>\n",
       "      <th>Parch</th>\n",
       "      <th>Ticket</th>\n",
       "      <th>Fare</th>\n",
       "      <th>Cabin</th>\n",
       "      <th>Embarked</th>\n",
       "      <th>Last_name</th>\n",
       "      <th>Title</th>\n",
       "      <th>Firstname</th>\n",
       "    </tr>\n",
       "  </thead>\n",
       "  <tbody>\n",
       "    <tr>\n",
       "      <th>1</th>\n",
       "      <td>2</td>\n",
       "      <td>1</td>\n",
       "      <td>1</td>\n",
       "      <td>Cumings, Mrs. John Bradley (Florence Briggs Th...</td>\n",
       "      <td>female</td>\n",
       "      <td>38.0</td>\n",
       "      <td>1</td>\n",
       "      <td>0</td>\n",
       "      <td>PC 17599</td>\n",
       "      <td>71.2833</td>\n",
       "      <td>C85</td>\n",
       "      <td>C</td>\n",
       "      <td>Cumings</td>\n",
       "      <td>Mrs.</td>\n",
       "      <td>John Bradley (Florence Briggs Thayer)</td>\n",
       "    </tr>\n",
       "    <tr>\n",
       "      <th>3</th>\n",
       "      <td>4</td>\n",
       "      <td>1</td>\n",
       "      <td>1</td>\n",
       "      <td>Futrelle, Mrs. Jacques Heath (Lily May Peel)</td>\n",
       "      <td>female</td>\n",
       "      <td>35.0</td>\n",
       "      <td>1</td>\n",
       "      <td>0</td>\n",
       "      <td>113803</td>\n",
       "      <td>53.1000</td>\n",
       "      <td>C123</td>\n",
       "      <td>S</td>\n",
       "      <td>Futrelle</td>\n",
       "      <td>Mrs.</td>\n",
       "      <td>Jacques Heath (Lily May Peel)</td>\n",
       "    </tr>\n",
       "    <tr>\n",
       "      <th>4</th>\n",
       "      <td>5</td>\n",
       "      <td>0</td>\n",
       "      <td>3</td>\n",
       "      <td>Allen, Mr. William Henry</td>\n",
       "      <td>male</td>\n",
       "      <td>35.0</td>\n",
       "      <td>0</td>\n",
       "      <td>0</td>\n",
       "      <td>373450</td>\n",
       "      <td>8.0500</td>\n",
       "      <td>NaN</td>\n",
       "      <td>S</td>\n",
       "      <td>Allen</td>\n",
       "      <td>Mr.</td>\n",
       "      <td>William Henry</td>\n",
       "    </tr>\n",
       "    <tr>\n",
       "      <th>5</th>\n",
       "      <td>6</td>\n",
       "      <td>0</td>\n",
       "      <td>3</td>\n",
       "      <td>Moran, Mr. James</td>\n",
       "      <td>male</td>\n",
       "      <td>NaN</td>\n",
       "      <td>0</td>\n",
       "      <td>0</td>\n",
       "      <td>330877</td>\n",
       "      <td>8.4583</td>\n",
       "      <td>NaN</td>\n",
       "      <td>Q</td>\n",
       "      <td>Moran</td>\n",
       "      <td>Mr.</td>\n",
       "      <td>James</td>\n",
       "    </tr>\n",
       "    <tr>\n",
       "      <th>6</th>\n",
       "      <td>7</td>\n",
       "      <td>0</td>\n",
       "      <td>1</td>\n",
       "      <td>McCarthy, Mr. Timothy J</td>\n",
       "      <td>male</td>\n",
       "      <td>54.0</td>\n",
       "      <td>0</td>\n",
       "      <td>0</td>\n",
       "      <td>17463</td>\n",
       "      <td>51.8625</td>\n",
       "      <td>E46</td>\n",
       "      <td>S</td>\n",
       "      <td>McCarthy</td>\n",
       "      <td>Mr.</td>\n",
       "      <td>Timothy J</td>\n",
       "    </tr>\n",
       "    <tr>\n",
       "      <th>...</th>\n",
       "      <td>...</td>\n",
       "      <td>...</td>\n",
       "      <td>...</td>\n",
       "      <td>...</td>\n",
       "      <td>...</td>\n",
       "      <td>...</td>\n",
       "      <td>...</td>\n",
       "      <td>...</td>\n",
       "      <td>...</td>\n",
       "      <td>...</td>\n",
       "      <td>...</td>\n",
       "      <td>...</td>\n",
       "      <td>...</td>\n",
       "      <td>...</td>\n",
       "      <td>...</td>\n",
       "    </tr>\n",
       "    <tr>\n",
       "      <th>886</th>\n",
       "      <td>887</td>\n",
       "      <td>0</td>\n",
       "      <td>2</td>\n",
       "      <td>Montvila, Rev. Juozas</td>\n",
       "      <td>male</td>\n",
       "      <td>27.0</td>\n",
       "      <td>0</td>\n",
       "      <td>0</td>\n",
       "      <td>211536</td>\n",
       "      <td>13.0000</td>\n",
       "      <td>NaN</td>\n",
       "      <td>S</td>\n",
       "      <td>Montvila</td>\n",
       "      <td>Rev.</td>\n",
       "      <td>Juozas</td>\n",
       "    </tr>\n",
       "    <tr>\n",
       "      <th>887</th>\n",
       "      <td>888</td>\n",
       "      <td>1</td>\n",
       "      <td>1</td>\n",
       "      <td>Graham, Miss. Margaret Edith</td>\n",
       "      <td>female</td>\n",
       "      <td>19.0</td>\n",
       "      <td>0</td>\n",
       "      <td>0</td>\n",
       "      <td>112053</td>\n",
       "      <td>30.0000</td>\n",
       "      <td>B42</td>\n",
       "      <td>S</td>\n",
       "      <td>Graham</td>\n",
       "      <td>Miss.</td>\n",
       "      <td>Margaret Edith</td>\n",
       "    </tr>\n",
       "    <tr>\n",
       "      <th>888</th>\n",
       "      <td>889</td>\n",
       "      <td>0</td>\n",
       "      <td>3</td>\n",
       "      <td>Johnston, Miss. Catherine Helen \"Carrie\"</td>\n",
       "      <td>female</td>\n",
       "      <td>NaN</td>\n",
       "      <td>1</td>\n",
       "      <td>2</td>\n",
       "      <td>W./C. 6607</td>\n",
       "      <td>23.4500</td>\n",
       "      <td>NaN</td>\n",
       "      <td>S</td>\n",
       "      <td>Johnston</td>\n",
       "      <td>Miss.</td>\n",
       "      <td>Catherine Helen \"Carrie\"</td>\n",
       "    </tr>\n",
       "    <tr>\n",
       "      <th>889</th>\n",
       "      <td>890</td>\n",
       "      <td>1</td>\n",
       "      <td>1</td>\n",
       "      <td>Behr, Mr. Karl Howell</td>\n",
       "      <td>male</td>\n",
       "      <td>26.0</td>\n",
       "      <td>0</td>\n",
       "      <td>0</td>\n",
       "      <td>111369</td>\n",
       "      <td>30.0000</td>\n",
       "      <td>C148</td>\n",
       "      <td>C</td>\n",
       "      <td>Behr</td>\n",
       "      <td>Mr.</td>\n",
       "      <td>Karl Howell</td>\n",
       "    </tr>\n",
       "    <tr>\n",
       "      <th>890</th>\n",
       "      <td>891</td>\n",
       "      <td>0</td>\n",
       "      <td>3</td>\n",
       "      <td>Dooley, Mr. Patrick</td>\n",
       "      <td>male</td>\n",
       "      <td>32.0</td>\n",
       "      <td>0</td>\n",
       "      <td>0</td>\n",
       "      <td>370376</td>\n",
       "      <td>7.7500</td>\n",
       "      <td>NaN</td>\n",
       "      <td>Q</td>\n",
       "      <td>Dooley</td>\n",
       "      <td>Mr.</td>\n",
       "      <td>Patrick</td>\n",
       "    </tr>\n",
       "  </tbody>\n",
       "</table>\n",
       "<p>536 rows × 15 columns</p>\n",
       "</div>"
      ],
      "text/plain": [
       "     PassengerId  Survived  Pclass  \\\n",
       "1              2         1       1   \n",
       "3              4         1       1   \n",
       "4              5         0       3   \n",
       "5              6         0       3   \n",
       "6              7         0       1   \n",
       "..           ...       ...     ...   \n",
       "886          887         0       2   \n",
       "887          888         1       1   \n",
       "888          889         0       3   \n",
       "889          890         1       1   \n",
       "890          891         0       3   \n",
       "\n",
       "                                                  Name     Sex   Age  SibSp  \\\n",
       "1    Cumings, Mrs. John Bradley (Florence Briggs Th...  female  38.0      1   \n",
       "3         Futrelle, Mrs. Jacques Heath (Lily May Peel)  female  35.0      1   \n",
       "4                             Allen, Mr. William Henry    male  35.0      0   \n",
       "5                                     Moran, Mr. James    male   NaN      0   \n",
       "6                              McCarthy, Mr. Timothy J    male  54.0      0   \n",
       "..                                                 ...     ...   ...    ...   \n",
       "886                              Montvila, Rev. Juozas    male  27.0      0   \n",
       "887                       Graham, Miss. Margaret Edith  female  19.0      0   \n",
       "888           Johnston, Miss. Catherine Helen \"Carrie\"  female   NaN      1   \n",
       "889                              Behr, Mr. Karl Howell    male  26.0      0   \n",
       "890                                Dooley, Mr. Patrick    male  32.0      0   \n",
       "\n",
       "     Parch      Ticket     Fare Cabin Embarked Last_name  Title  \\\n",
       "1        0    PC 17599  71.2833   C85        C   Cumings   Mrs.   \n",
       "3        0      113803  53.1000  C123        S  Futrelle   Mrs.   \n",
       "4        0      373450   8.0500   NaN        S     Allen    Mr.   \n",
       "5        0      330877   8.4583   NaN        Q     Moran    Mr.   \n",
       "6        0       17463  51.8625   E46        S  McCarthy    Mr.   \n",
       "..     ...         ...      ...   ...      ...       ...    ...   \n",
       "886      0      211536  13.0000   NaN        S  Montvila   Rev.   \n",
       "887      0      112053  30.0000   B42        S    Graham  Miss.   \n",
       "888      2  W./C. 6607  23.4500   NaN        S  Johnston  Miss.   \n",
       "889      0      111369  30.0000  C148        C      Behr    Mr.   \n",
       "890      0      370376   7.7500   NaN        Q    Dooley    Mr.   \n",
       "\n",
       "                                 Firstname  \n",
       "1    John Bradley (Florence Briggs Thayer)  \n",
       "3            Jacques Heath (Lily May Peel)  \n",
       "4                            William Henry  \n",
       "5                                    James  \n",
       "6                                Timothy J  \n",
       "..                                     ...  \n",
       "886                                 Juozas  \n",
       "887                         Margaret Edith  \n",
       "888               Catherine Helen \"Carrie\"  \n",
       "889                            Karl Howell  \n",
       "890                                Patrick  \n",
       "\n",
       "[536 rows x 15 columns]"
      ]
     },
     "execution_count": 45,
     "metadata": {},
     "output_type": "execute_result"
    }
   ],
   "source": [
    "df[df['Firstname'].str.contains('^[^aeiouAEIOU].+[^AEIOUaeiou]$')]"
   ]
  },
  {
   "cell_type": "code",
   "execution_count": 48,
   "id": "3c003cee-f931-4142-bcd1-2911b86a536b",
   "metadata": {},
   "outputs": [
    {
     "data": {
      "text/plain": [
       "0                                sirraH newO .rM ,dnuarB\n",
       "1      )reyahT sggirB ecnerolF( yeldarB nhoJ .srM ,sg...\n",
       "2                                 aniaL .ssiM ,nenikkieH\n",
       "3           )leeP yaM yliL( htaeH seuqcaJ .srM ,ellertuF\n",
       "4                               yrneH mailliW .rM ,nellA\n",
       "                             ...                        \n",
       "886                                sazouJ .veR ,alivtnoM\n",
       "887                         htidE teragraM .ssiM ,maharG\n",
       "888             \"eirraC\" neleH enirehtaC .ssiM ,notsnhoJ\n",
       "889                                llewoH lraK .rM ,rheB\n",
       "890                                  kcirtaP .rM ,yelooD\n",
       "Name: Name, Length: 891, dtype: object"
      ]
     },
     "execution_count": 48,
     "metadata": {},
     "output_type": "execute_result"
    }
   ],
   "source": [
    "df['Name'].str[::-1]"
   ]
  },
  {
   "cell_type": "markdown",
   "id": "6457329e-dca8-431c-adfb-debad56197c6",
   "metadata": {},
   "source": [
    "## Date and Time"
   ]
  },
  {
   "cell_type": "code",
   "execution_count": null,
   "id": "c3df5de1-5ff6-449f-8b51-1acf28a7aaca",
   "metadata": {},
   "outputs": [],
   "source": []
  },
  {
   "cell_type": "code",
   "execution_count": 53,
   "id": "856f36b8-ed07-4b4c-b0c6-087cd5ebddf3",
   "metadata": {},
   "outputs": [
    {
     "data": {
      "text/plain": [
       "Timestamp('2024-01-05 00:00:00')"
      ]
     },
     "execution_count": 53,
     "metadata": {},
     "output_type": "execute_result"
    }
   ],
   "source": [
    "pd.Timestamp('2024-1/5')"
   ]
  },
  {
   "cell_type": "code",
   "execution_count": 54,
   "id": "d99ce3dc-7091-4840-b133-676d07ca19ff",
   "metadata": {},
   "outputs": [
    {
     "data": {
      "text/plain": [
       "Timestamp('2024-01-05 00:00:00')"
      ]
     },
     "execution_count": 54,
     "metadata": {},
     "output_type": "execute_result"
    }
   ],
   "source": [
    "pd.Timestamp('2024-1-5')"
   ]
  },
  {
   "cell_type": "code",
   "execution_count": 59,
   "id": "a5b2ff88-db63-4722-b61a-8541f9cc7658",
   "metadata": {},
   "outputs": [
    {
     "data": {
      "text/plain": [
       "Timestamp('2024-01-05 00:00:00')"
      ]
     },
     "execution_count": 59,
     "metadata": {},
     "output_type": "execute_result"
    }
   ],
   "source": [
    "pd.Timestamp('2024/1/5')"
   ]
  },
  {
   "cell_type": "code",
   "execution_count": 62,
   "id": "83f988d7-aa1e-4d58-b289-a973d93018c3",
   "metadata": {},
   "outputs": [
    {
     "data": {
      "text/plain": [
       "Timestamp('2023-12-04 00:00:00')"
      ]
     },
     "execution_count": 62,
     "metadata": {},
     "output_type": "execute_result"
    }
   ],
   "source": [
    "pd.Timestamp('4th dec 2023')"
   ]
  },
  {
   "cell_type": "code",
   "execution_count": 63,
   "id": "30230205-41f0-4f9b-ba97-4100535486c9",
   "metadata": {},
   "outputs": [
    {
     "data": {
      "text/plain": [
       "Timestamp('2023-01-02 00:00:00')"
      ]
     },
     "execution_count": 63,
     "metadata": {},
     "output_type": "execute_result"
    }
   ],
   "source": [
    "pd.Timestamp('2023, 1, 2')"
   ]
  },
  {
   "cell_type": "code",
   "execution_count": 67,
   "id": "ab1c3927-cac3-4f69-b37a-fd84c2b193f4",
   "metadata": {},
   "outputs": [
    {
     "data": {
      "text/plain": [
       "Timestamp('2021-01-01 09:21:00')"
      ]
     },
     "execution_count": 67,
     "metadata": {},
     "output_type": "execute_result"
    }
   ],
   "source": [
    "pd.Timestamp('1st jan 2021 9:21AM')"
   ]
  },
  {
   "cell_type": "code",
   "execution_count": 68,
   "id": "8e4c5e8c-2777-4413-aebd-d0502643d571",
   "metadata": {},
   "outputs": [],
   "source": [
    "import datetime as dt"
   ]
  },
  {
   "cell_type": "code",
   "execution_count": 70,
   "id": "84fec3d9-4bc1-45a9-995c-b61227914a65",
   "metadata": {},
   "outputs": [
    {
     "data": {
      "text/plain": [
       "datetime.datetime(2024, 1, 5, 9, 21, 26)"
      ]
     },
     "execution_count": 70,
     "metadata": {},
     "output_type": "execute_result"
    }
   ],
   "source": [
    "dt.datetime(2024,1,5,9,21,26)"
   ]
  },
  {
   "cell_type": "code",
   "execution_count": 72,
   "id": "6c08866d-dfe3-49f7-8dba-7ae993aa1d72",
   "metadata": {},
   "outputs": [],
   "source": [
    "x = pd.Timestamp(dt.datetime(2024,1,5,9,21,26))"
   ]
  },
  {
   "cell_type": "code",
   "execution_count": 73,
   "id": "66a1e839-660e-4a72-ba0b-a3615b62d276",
   "metadata": {},
   "outputs": [
    {
     "data": {
      "text/plain": [
       "1"
      ]
     },
     "execution_count": 73,
     "metadata": {},
     "output_type": "execute_result"
    }
   ],
   "source": [
    "x.month"
   ]
  },
  {
   "cell_type": "code",
   "execution_count": 74,
   "id": "35fa4c76-1d2c-4702-b0f7-84b10cf63668",
   "metadata": {},
   "outputs": [
    {
     "data": {
      "text/plain": [
       "2024"
      ]
     },
     "execution_count": 74,
     "metadata": {},
     "output_type": "execute_result"
    }
   ],
   "source": [
    "x.year"
   ]
  },
  {
   "cell_type": "code",
   "execution_count": 77,
   "id": "6ef7c714-d0c7-4ff1-bf1d-7cf03e5d8df3",
   "metadata": {},
   "outputs": [
    {
     "data": {
      "text/plain": [
       "9"
      ]
     },
     "execution_count": 77,
     "metadata": {},
     "output_type": "execute_result"
    }
   ],
   "source": [
    "x.hour"
   ]
  },
  {
   "cell_type": "code",
   "execution_count": 78,
   "id": "613f7aeb-92cc-4661-afc8-3ae304839a57",
   "metadata": {},
   "outputs": [],
   "source": [
    "import numpy as np"
   ]
  },
  {
   "cell_type": "code",
   "execution_count": 80,
   "id": "506cf750-4664-4ca6-b1cc-f44397cd7c7b",
   "metadata": {},
   "outputs": [],
   "source": [
    "date = np.array(['2015-07-02'],dtype=np.datetime64)"
   ]
  },
  {
   "cell_type": "code",
   "execution_count": 81,
   "id": "052f10e6-d6f9-47b3-ac72-be4e86ad2e33",
   "metadata": {},
   "outputs": [
    {
     "data": {
      "text/plain": [
       "array(['2015-07-02'], dtype='datetime64[D]')"
      ]
     },
     "execution_count": 81,
     "metadata": {},
     "output_type": "execute_result"
    }
   ],
   "source": [
    "date"
   ]
  },
  {
   "cell_type": "code",
   "execution_count": 82,
   "id": "86fec715-5f43-4c7a-82a7-e4335b90c4bd",
   "metadata": {},
   "outputs": [
    {
     "data": {
      "text/plain": [
       "array(['2015-07-02', '2015-07-03', '2015-07-04', '2015-07-05',\n",
       "       '2015-07-06', '2015-07-07', '2015-07-08', '2015-07-09',\n",
       "       '2015-07-10', '2015-07-11', '2015-07-12', '2015-07-13'],\n",
       "      dtype='datetime64[D]')"
      ]
     },
     "execution_count": 82,
     "metadata": {},
     "output_type": "execute_result"
    }
   ],
   "source": [
    "date + np.arange(12)"
   ]
  },
  {
   "cell_type": "code",
   "execution_count": 86,
   "id": "70f778f4-0a7c-4dcd-bbc8-6e8e625e7503",
   "metadata": {},
   "outputs": [
    {
     "data": {
      "text/plain": [
       "DatetimeIndex(['2023-01-01', '2024-01-01', '2025-01-01'], dtype='datetime64[ns]', freq=None)"
      ]
     },
     "execution_count": 86,
     "metadata": {},
     "output_type": "execute_result"
    }
   ],
   "source": [
    "pd.DatetimeIndex(['2023-1-1','2024-1-1','2025-1-1'])"
   ]
  },
  {
   "cell_type": "code",
   "execution_count": 85,
   "id": "4d9e93db-7446-4c6c-9fab-28054e332b61",
   "metadata": {},
   "outputs": [
    {
     "data": {
      "text/plain": [
       "Timestamp('2023-01-01 00:00:00')"
      ]
     },
     "execution_count": 85,
     "metadata": {},
     "output_type": "execute_result"
    }
   ],
   "source": [
    "pd.DatetimeIndex(['2023-1-1','2024-1-1','2025-1-1'])[0]"
   ]
  },
  {
   "cell_type": "code",
   "execution_count": 87,
   "id": "ca62a8f5-3be6-426d-aef2-48913550537d",
   "metadata": {},
   "outputs": [
    {
     "data": {
      "text/plain": [
       "DatetimeIndex(['2022-01-01', '2023-01-01', '2024-01-01'], dtype='datetime64[ns]', freq=None)"
      ]
     },
     "execution_count": 87,
     "metadata": {},
     "output_type": "execute_result"
    }
   ],
   "source": [
    "pd.DatetimeIndex([dt.datetime(2022,1,1),dt.datetime(2023,1,1),dt.datetime(2024,1,1)])"
   ]
  },
  {
   "cell_type": "code",
   "execution_count": 89,
   "id": "0c5a3d30-904a-4604-9898-3b2c95cf6da6",
   "metadata": {},
   "outputs": [],
   "source": [
    "dt_index = pd.DatetimeIndex([pd.Timestamp(2023,1,1),pd.Timestamp(2024,1,1),pd.Timestamp(2025,1,1)])"
   ]
  },
  {
   "cell_type": "code",
   "execution_count": 90,
   "id": "f3c68bc6-28a6-4c56-a5ea-93e0a4c6b712",
   "metadata": {},
   "outputs": [
    {
     "data": {
      "text/plain": [
       "2023-01-01    1\n",
       "2024-01-01    2\n",
       "2025-01-01    3\n",
       "dtype: int64"
      ]
     },
     "execution_count": 90,
     "metadata": {},
     "output_type": "execute_result"
    }
   ],
   "source": [
    "pd.Series([1,2,3],index=dt_index)"
   ]
  },
  {
   "cell_type": "code",
   "execution_count": 95,
   "id": "64c9b7de-7636-44c6-83aa-382f9bb70119",
   "metadata": {},
   "outputs": [
    {
     "data": {
      "text/plain": [
       "DatetimeIndex(['2024-01-01', '2024-01-02', '2024-01-03', '2024-01-04',\n",
       "               '2024-01-05', '2024-01-06', '2024-01-07', '2024-01-08',\n",
       "               '2024-01-09', '2024-01-10', '2024-01-11', '2024-01-12',\n",
       "               '2024-01-13', '2024-01-14', '2024-01-15', '2024-01-16',\n",
       "               '2024-01-17', '2024-01-18', '2024-01-19', '2024-01-20',\n",
       "               '2024-01-21', '2024-01-22', '2024-01-23', '2024-01-24',\n",
       "               '2024-01-25', '2024-01-26', '2024-01-27', '2024-01-28',\n",
       "               '2024-01-29', '2024-01-30', '2024-01-31', '2024-02-01'],\n",
       "              dtype='datetime64[ns]', freq='D')"
      ]
     },
     "execution_count": 95,
     "metadata": {},
     "output_type": "execute_result"
    }
   ],
   "source": [
    "pd.date_range(start='2024-1-1',end='2024-2-1',freq='D')"
   ]
  },
  {
   "cell_type": "code",
   "execution_count": 94,
   "id": "66920bf3-3a74-4bcd-95be-7687cee0e732",
   "metadata": {},
   "outputs": [
    {
     "data": {
      "text/plain": [
       "DatetimeIndex(['2024-01-01', '2024-01-05', '2024-01-09', '2024-01-13',\n",
       "               '2024-01-17', '2024-01-21', '2024-01-25', '2024-01-29'],\n",
       "              dtype='datetime64[ns]', freq='4D')"
      ]
     },
     "execution_count": 94,
     "metadata": {},
     "output_type": "execute_result"
    }
   ],
   "source": [
    "pd.date_range(start='2024-1-1',end='2024-2-1',freq='4D')"
   ]
  },
  {
   "cell_type": "code",
   "execution_count": 96,
   "id": "7b8de9ab-ebca-4ae8-b328-399e227fec0e",
   "metadata": {},
   "outputs": [
    {
     "data": {
      "text/plain": [
       "DatetimeIndex(['2024-01-01', '2024-01-02', '2024-01-03', '2024-01-04',\n",
       "               '2024-01-05', '2024-01-08', '2024-01-09', '2024-01-10',\n",
       "               '2024-01-11', '2024-01-12', '2024-01-15', '2024-01-16',\n",
       "               '2024-01-17', '2024-01-18', '2024-01-19', '2024-01-22',\n",
       "               '2024-01-23', '2024-01-24', '2024-01-25', '2024-01-26',\n",
       "               '2024-01-29', '2024-01-30', '2024-01-31', '2024-02-01'],\n",
       "              dtype='datetime64[ns]', freq='B')"
      ]
     },
     "execution_count": 96,
     "metadata": {},
     "output_type": "execute_result"
    }
   ],
   "source": [
    "pd.date_range(start='2024-1-1',end='2024-2-1',freq='B')"
   ]
  },
  {
   "cell_type": "code",
   "execution_count": 97,
   "id": "de742dc8-be7b-455f-8080-87ddbb34754d",
   "metadata": {},
   "outputs": [
    {
     "data": {
      "text/plain": [
       "DatetimeIndex(['2024-01-07', '2024-01-14', '2024-01-21', '2024-01-28'], dtype='datetime64[ns]', freq='W-SUN')"
      ]
     },
     "execution_count": 97,
     "metadata": {},
     "output_type": "execute_result"
    }
   ],
   "source": [
    "pd.date_range(start='2024-1-1',end='2024-2-1',freq='W')"
   ]
  },
  {
   "cell_type": "code",
   "execution_count": 98,
   "id": "5e7f054a-b9bc-483c-b9ee-cfc39bf32059",
   "metadata": {},
   "outputs": [
    {
     "data": {
      "text/plain": [
       "DatetimeIndex(['2024-01-04', '2024-01-11', '2024-01-18', '2024-01-25',\n",
       "               '2024-02-01'],\n",
       "              dtype='datetime64[ns]', freq='W-THU')"
      ]
     },
     "execution_count": 98,
     "metadata": {},
     "output_type": "execute_result"
    }
   ],
   "source": [
    "pd.date_range(start='2024-1-1',end='2024-2-1',freq='W-THU')"
   ]
  },
  {
   "cell_type": "code",
   "execution_count": 100,
   "id": "c41da1b0-2645-43d4-804f-bf29ad953848",
   "metadata": {},
   "outputs": [
    {
     "data": {
      "text/plain": [
       "DatetimeIndex(['2024-01-01 00:00:00', '2024-01-01 01:00:00',\n",
       "               '2024-01-01 02:00:00', '2024-01-01 03:00:00',\n",
       "               '2024-01-01 04:00:00', '2024-01-01 05:00:00',\n",
       "               '2024-01-01 06:00:00', '2024-01-01 07:00:00',\n",
       "               '2024-01-01 08:00:00', '2024-01-01 09:00:00',\n",
       "               ...\n",
       "               '2024-01-31 15:00:00', '2024-01-31 16:00:00',\n",
       "               '2024-01-31 17:00:00', '2024-01-31 18:00:00',\n",
       "               '2024-01-31 19:00:00', '2024-01-31 20:00:00',\n",
       "               '2024-01-31 21:00:00', '2024-01-31 22:00:00',\n",
       "               '2024-01-31 23:00:00', '2024-02-01 00:00:00'],\n",
       "              dtype='datetime64[ns]', length=745, freq='h')"
      ]
     },
     "execution_count": 100,
     "metadata": {},
     "output_type": "execute_result"
    }
   ],
   "source": [
    "pd.date_range(start='2024-1-1',end='2024-2-1',freq='h')"
   ]
  },
  {
   "cell_type": "code",
   "execution_count": 104,
   "id": "b0054cba-3358-4989-b741-3ce7c2a1f855",
   "metadata": {},
   "outputs": [
    {
     "data": {
      "text/plain": [
       "DatetimeIndex(['2024-01-31', '2024-02-29', '2024-03-31'], dtype='datetime64[ns]', freq='ME')"
      ]
     },
     "execution_count": 104,
     "metadata": {},
     "output_type": "execute_result"
    }
   ],
   "source": [
    "pd.date_range(start='2024-1-1',end='2024-4-1',freq='ME')"
   ]
  },
  {
   "cell_type": "code",
   "execution_count": 105,
   "id": "db05f46f-97b6-4246-a55f-5c0fadd18747",
   "metadata": {},
   "outputs": [
    {
     "data": {
      "text/plain": [
       "DatetimeIndex(['2024-01-01', '2024-02-01'], dtype='datetime64[ns]', freq='MS')"
      ]
     },
     "execution_count": 105,
     "metadata": {},
     "output_type": "execute_result"
    }
   ],
   "source": [
    "pd.date_range(start='2024-1-1',end='2024-2-1',freq='MS')"
   ]
  },
  {
   "cell_type": "code",
   "execution_count": 108,
   "id": "e4554eb4-9dd1-4753-a5df-4ae4f1063148",
   "metadata": {},
   "outputs": [
    {
     "data": {
      "text/plain": [
       "DatetimeIndex(['2024-12-31'], dtype='datetime64[ns]', freq='YE-DEC')"
      ]
     },
     "execution_count": 108,
     "metadata": {},
     "output_type": "execute_result"
    }
   ],
   "source": [
    "pd.date_range(start='2024-1-1',end='2025-2-1',freq='YE')"
   ]
  },
  {
   "cell_type": "code",
   "execution_count": 110,
   "id": "b5621e26-14b7-4a9b-b194-3b50b1b0b3d2",
   "metadata": {},
   "outputs": [
    {
     "data": {
      "text/plain": [
       "DatetimeIndex(['2024-01-01 00:00:00', '2024-01-01 01:00:00',\n",
       "               '2024-01-01 02:00:00', '2024-01-01 03:00:00',\n",
       "               '2024-01-01 04:00:00', '2024-01-01 05:00:00',\n",
       "               '2024-01-01 06:00:00', '2024-01-01 07:00:00',\n",
       "               '2024-01-01 08:00:00', '2024-01-01 09:00:00',\n",
       "               '2024-01-01 10:00:00', '2024-01-01 11:00:00',\n",
       "               '2024-01-01 12:00:00', '2024-01-01 13:00:00',\n",
       "               '2024-01-01 14:00:00', '2024-01-01 15:00:00',\n",
       "               '2024-01-01 16:00:00', '2024-01-01 17:00:00',\n",
       "               '2024-01-01 18:00:00', '2024-01-01 19:00:00',\n",
       "               '2024-01-01 20:00:00', '2024-01-01 21:00:00',\n",
       "               '2024-01-01 22:00:00', '2024-01-01 23:00:00',\n",
       "               '2024-01-02 00:00:00'],\n",
       "              dtype='datetime64[ns]', freq='h')"
      ]
     },
     "execution_count": 110,
     "metadata": {},
     "output_type": "execute_result"
    }
   ],
   "source": [
    "pd.date_range(start='2024-1-1',periods=25,freq='h',)"
   ]
  },
  {
   "cell_type": "code",
   "execution_count": 112,
   "id": "7d5b810a-8b2b-43f9-b285-4c6463112758",
   "metadata": {},
   "outputs": [
    {
     "data": {
      "text/plain": [
       "0    2023\n",
       "1    2024\n",
       "2    2025\n",
       "dtype: int32"
      ]
     },
     "execution_count": 112,
     "metadata": {},
     "output_type": "execute_result"
    }
   ],
   "source": [
    "s = pd.Series(['2023-1-2','2024-1-2','2025-1-2'])\n",
    "pd.to_datetime(s).dt.year"
   ]
  },
  {
   "cell_type": "code",
   "execution_count": 116,
   "id": "2bfd31fd-a4e5-4897-8003-114fe6f30c8d",
   "metadata": {},
   "outputs": [
    {
     "data": {
      "text/plain": [
       "0    2023\n",
       "1    2024\n",
       "2    2025\n",
       "dtype: int32"
      ]
     },
     "execution_count": 116,
     "metadata": {},
     "output_type": "execute_result"
    }
   ],
   "source": [
    "pd.to_datetime(s).dt.year"
   ]
  },
  {
   "cell_type": "code",
   "execution_count": 119,
   "id": "bab070ea-abe8-4954-a273-42db9a97afbb",
   "metadata": {},
   "outputs": [],
   "source": [
    "s = pd.Series(['2023-1-2','2024-21-2','2025-1-2'])\n"
   ]
  },
  {
   "cell_type": "code",
   "execution_count": 125,
   "id": "aae0b5b5-e0de-4111-a276-e126590ef2bb",
   "metadata": {},
   "outputs": [
    {
     "data": {
      "text/plain": [
       "0   2023-01-02\n",
       "1          NaT\n",
       "2   2025-01-02\n",
       "dtype: datetime64[ns]"
      ]
     },
     "execution_count": 125,
     "metadata": {},
     "output_type": "execute_result"
    }
   ],
   "source": [
    "pd.to_datetime(s,errors='coerce')"
   ]
  },
  {
   "cell_type": "code",
   "execution_count": 126,
   "id": "72dae54e-acbd-4f2b-92a4-a3a448806a49",
   "metadata": {},
   "outputs": [],
   "source": [
    "df = pd.read_csv('Data-Set/expense_data.csv')"
   ]
  },
  {
   "cell_type": "code",
   "execution_count": 127,
   "id": "dc619017-cdd8-4aa0-96cd-c351e5b34fef",
   "metadata": {},
   "outputs": [
    {
     "data": {
      "text/html": [
       "<div>\n",
       "<style scoped>\n",
       "    .dataframe tbody tr th:only-of-type {\n",
       "        vertical-align: middle;\n",
       "    }\n",
       "\n",
       "    .dataframe tbody tr th {\n",
       "        vertical-align: top;\n",
       "    }\n",
       "\n",
       "    .dataframe thead th {\n",
       "        text-align: right;\n",
       "    }\n",
       "</style>\n",
       "<table border=\"1\" class=\"dataframe\">\n",
       "  <thead>\n",
       "    <tr style=\"text-align: right;\">\n",
       "      <th></th>\n",
       "      <th>Date</th>\n",
       "      <th>Account</th>\n",
       "      <th>Category</th>\n",
       "      <th>Subcategory</th>\n",
       "      <th>Note</th>\n",
       "      <th>INR</th>\n",
       "      <th>Income/Expense</th>\n",
       "      <th>Note.1</th>\n",
       "      <th>Amount</th>\n",
       "      <th>Currency</th>\n",
       "      <th>Account.1</th>\n",
       "    </tr>\n",
       "  </thead>\n",
       "  <tbody>\n",
       "    <tr>\n",
       "      <th>226</th>\n",
       "      <td>12/5/2021 18:41</td>\n",
       "      <td>CUB - online payment</td>\n",
       "      <td>Apparel</td>\n",
       "      <td>NaN</td>\n",
       "      <td>Full hand and a hoodie</td>\n",
       "      <td>1800.0</td>\n",
       "      <td>Expense</td>\n",
       "      <td>NaN</td>\n",
       "      <td>1800.0</td>\n",
       "      <td>INR</td>\n",
       "      <td>1800.0</td>\n",
       "    </tr>\n",
       "  </tbody>\n",
       "</table>\n",
       "</div>"
      ],
      "text/plain": [
       "                Date               Account Category  Subcategory  \\\n",
       "226  12/5/2021 18:41  CUB - online payment  Apparel          NaN   \n",
       "\n",
       "                       Note     INR Income/Expense  Note.1  Amount Currency  \\\n",
       "226  Full hand and a hoodie  1800.0        Expense     NaN  1800.0      INR   \n",
       "\n",
       "     Account.1  \n",
       "226     1800.0  "
      ]
     },
     "execution_count": 127,
     "metadata": {},
     "output_type": "execute_result"
    }
   ],
   "source": [
    "df.sample()"
   ]
  },
  {
   "cell_type": "code",
   "execution_count": 128,
   "id": "6559836f-1e91-4d9b-817e-c242a4d58be4",
   "metadata": {},
   "outputs": [
    {
     "name": "stdout",
     "output_type": "stream",
     "text": [
      "<class 'pandas.core.frame.DataFrame'>\n",
      "RangeIndex: 277 entries, 0 to 276\n",
      "Data columns (total 11 columns):\n",
      " #   Column          Non-Null Count  Dtype  \n",
      "---  ------          --------------  -----  \n",
      " 0   Date            277 non-null    object \n",
      " 1   Account         277 non-null    object \n",
      " 2   Category        277 non-null    object \n",
      " 3   Subcategory     0 non-null      float64\n",
      " 4   Note            273 non-null    object \n",
      " 5   INR             277 non-null    float64\n",
      " 6   Income/Expense  277 non-null    object \n",
      " 7   Note.1          0 non-null      float64\n",
      " 8   Amount          277 non-null    float64\n",
      " 9   Currency        277 non-null    object \n",
      " 10  Account.1       277 non-null    float64\n",
      "dtypes: float64(5), object(6)\n",
      "memory usage: 23.9+ KB\n"
     ]
    }
   ],
   "source": [
    "df.info()"
   ]
  },
  {
   "cell_type": "code",
   "execution_count": 130,
   "id": "8f3feb18-7b52-43a8-bb68-a957bc408d2a",
   "metadata": {},
   "outputs": [],
   "source": [
    "df['Date']= pd.to_datetime(df['Date'])"
   ]
  },
  {
   "cell_type": "code",
   "execution_count": 131,
   "id": "d25b2e5e-075f-49eb-a5f5-d0b549e5a6e0",
   "metadata": {},
   "outputs": [
    {
     "name": "stdout",
     "output_type": "stream",
     "text": [
      "<class 'pandas.core.frame.DataFrame'>\n",
      "RangeIndex: 277 entries, 0 to 276\n",
      "Data columns (total 11 columns):\n",
      " #   Column          Non-Null Count  Dtype         \n",
      "---  ------          --------------  -----         \n",
      " 0   Date            277 non-null    datetime64[ns]\n",
      " 1   Account         277 non-null    object        \n",
      " 2   Category        277 non-null    object        \n",
      " 3   Subcategory     0 non-null      float64       \n",
      " 4   Note            273 non-null    object        \n",
      " 5   INR             277 non-null    float64       \n",
      " 6   Income/Expense  277 non-null    object        \n",
      " 7   Note.1          0 non-null      float64       \n",
      " 8   Amount          277 non-null    float64       \n",
      " 9   Currency        277 non-null    object        \n",
      " 10  Account.1       277 non-null    float64       \n",
      "dtypes: datetime64[ns](1), float64(5), object(5)\n",
      "memory usage: 23.9+ KB\n"
     ]
    }
   ],
   "source": [
    "df.info()"
   ]
  },
  {
   "cell_type": "code",
   "execution_count": 135,
   "id": "3a68219f-f023-46b4-8ebd-f58768a04fbe",
   "metadata": {},
   "outputs": [
    {
     "data": {
      "text/plain": [
       "0         March\n",
       "1         March\n",
       "2         March\n",
       "3         March\n",
       "4         March\n",
       "         ...   \n",
       "272    November\n",
       "273    November\n",
       "274    November\n",
       "275    November\n",
       "276    November\n",
       "Name: Date, Length: 277, dtype: object"
      ]
     },
     "execution_count": 135,
     "metadata": {},
     "output_type": "execute_result"
    }
   ],
   "source": [
    "df['Date'].dt.month_name()"
   ]
  },
  {
   "cell_type": "code",
   "execution_count": 136,
   "id": "118718e3-a3d7-401f-8402-28a54a4d8582",
   "metadata": {},
   "outputs": [
    {
     "data": {
      "text/html": [
       "<div>\n",
       "<style scoped>\n",
       "    .dataframe tbody tr th:only-of-type {\n",
       "        vertical-align: middle;\n",
       "    }\n",
       "\n",
       "    .dataframe tbody tr th {\n",
       "        vertical-align: top;\n",
       "    }\n",
       "\n",
       "    .dataframe thead th {\n",
       "        text-align: right;\n",
       "    }\n",
       "</style>\n",
       "<table border=\"1\" class=\"dataframe\">\n",
       "  <thead>\n",
       "    <tr style=\"text-align: right;\">\n",
       "      <th></th>\n",
       "      <th>Date</th>\n",
       "      <th>Account</th>\n",
       "      <th>Category</th>\n",
       "      <th>Subcategory</th>\n",
       "      <th>Note</th>\n",
       "      <th>INR</th>\n",
       "      <th>Income/Expense</th>\n",
       "      <th>Note.1</th>\n",
       "      <th>Amount</th>\n",
       "      <th>Currency</th>\n",
       "      <th>Account.1</th>\n",
       "    </tr>\n",
       "  </thead>\n",
       "  <tbody>\n",
       "    <tr>\n",
       "      <th>0</th>\n",
       "      <td>2022-03-02 10:11:00</td>\n",
       "      <td>CUB - online payment</td>\n",
       "      <td>Food</td>\n",
       "      <td>NaN</td>\n",
       "      <td>Brownie</td>\n",
       "      <td>50.0</td>\n",
       "      <td>Expense</td>\n",
       "      <td>NaN</td>\n",
       "      <td>50.0</td>\n",
       "      <td>INR</td>\n",
       "      <td>50.0</td>\n",
       "    </tr>\n",
       "    <tr>\n",
       "      <th>1</th>\n",
       "      <td>2022-03-02 10:11:00</td>\n",
       "      <td>CUB - online payment</td>\n",
       "      <td>Other</td>\n",
       "      <td>NaN</td>\n",
       "      <td>To lended people</td>\n",
       "      <td>300.0</td>\n",
       "      <td>Expense</td>\n",
       "      <td>NaN</td>\n",
       "      <td>300.0</td>\n",
       "      <td>INR</td>\n",
       "      <td>300.0</td>\n",
       "    </tr>\n",
       "    <tr>\n",
       "      <th>2</th>\n",
       "      <td>2022-03-01 19:50:00</td>\n",
       "      <td>CUB - online payment</td>\n",
       "      <td>Food</td>\n",
       "      <td>NaN</td>\n",
       "      <td>Dinner</td>\n",
       "      <td>78.0</td>\n",
       "      <td>Expense</td>\n",
       "      <td>NaN</td>\n",
       "      <td>78.0</td>\n",
       "      <td>INR</td>\n",
       "      <td>78.0</td>\n",
       "    </tr>\n",
       "    <tr>\n",
       "      <th>3</th>\n",
       "      <td>2022-03-01 18:56:00</td>\n",
       "      <td>CUB - online payment</td>\n",
       "      <td>Transportation</td>\n",
       "      <td>NaN</td>\n",
       "      <td>Metro</td>\n",
       "      <td>30.0</td>\n",
       "      <td>Expense</td>\n",
       "      <td>NaN</td>\n",
       "      <td>30.0</td>\n",
       "      <td>INR</td>\n",
       "      <td>30.0</td>\n",
       "    </tr>\n",
       "    <tr>\n",
       "      <th>4</th>\n",
       "      <td>2022-03-01 18:22:00</td>\n",
       "      <td>CUB - online payment</td>\n",
       "      <td>Food</td>\n",
       "      <td>NaN</td>\n",
       "      <td>Snacks</td>\n",
       "      <td>67.0</td>\n",
       "      <td>Expense</td>\n",
       "      <td>NaN</td>\n",
       "      <td>67.0</td>\n",
       "      <td>INR</td>\n",
       "      <td>67.0</td>\n",
       "    </tr>\n",
       "    <tr>\n",
       "      <th>...</th>\n",
       "      <td>...</td>\n",
       "      <td>...</td>\n",
       "      <td>...</td>\n",
       "      <td>...</td>\n",
       "      <td>...</td>\n",
       "      <td>...</td>\n",
       "      <td>...</td>\n",
       "      <td>...</td>\n",
       "      <td>...</td>\n",
       "      <td>...</td>\n",
       "      <td>...</td>\n",
       "    </tr>\n",
       "    <tr>\n",
       "      <th>272</th>\n",
       "      <td>2021-11-22 14:16:00</td>\n",
       "      <td>CUB - online payment</td>\n",
       "      <td>Food</td>\n",
       "      <td>NaN</td>\n",
       "      <td>Dinner</td>\n",
       "      <td>90.0</td>\n",
       "      <td>Expense</td>\n",
       "      <td>NaN</td>\n",
       "      <td>90.0</td>\n",
       "      <td>INR</td>\n",
       "      <td>90.0</td>\n",
       "    </tr>\n",
       "    <tr>\n",
       "      <th>273</th>\n",
       "      <td>2021-11-22 14:16:00</td>\n",
       "      <td>CUB - online payment</td>\n",
       "      <td>Food</td>\n",
       "      <td>NaN</td>\n",
       "      <td>Lunch with company</td>\n",
       "      <td>97.0</td>\n",
       "      <td>Expense</td>\n",
       "      <td>NaN</td>\n",
       "      <td>97.0</td>\n",
       "      <td>INR</td>\n",
       "      <td>97.0</td>\n",
       "    </tr>\n",
       "    <tr>\n",
       "      <th>274</th>\n",
       "      <td>2021-11-21 17:07:00</td>\n",
       "      <td>CUB - online payment</td>\n",
       "      <td>Transportation</td>\n",
       "      <td>NaN</td>\n",
       "      <td>Rapido</td>\n",
       "      <td>130.0</td>\n",
       "      <td>Expense</td>\n",
       "      <td>NaN</td>\n",
       "      <td>130.0</td>\n",
       "      <td>INR</td>\n",
       "      <td>130.0</td>\n",
       "    </tr>\n",
       "    <tr>\n",
       "      <th>275</th>\n",
       "      <td>2021-11-21 15:50:00</td>\n",
       "      <td>CUB - online payment</td>\n",
       "      <td>Food</td>\n",
       "      <td>NaN</td>\n",
       "      <td>Lunch</td>\n",
       "      <td>875.0</td>\n",
       "      <td>Expense</td>\n",
       "      <td>NaN</td>\n",
       "      <td>875.0</td>\n",
       "      <td>INR</td>\n",
       "      <td>875.0</td>\n",
       "    </tr>\n",
       "    <tr>\n",
       "      <th>276</th>\n",
       "      <td>2021-11-21 13:30:00</td>\n",
       "      <td>CUB - online payment</td>\n",
       "      <td>Other</td>\n",
       "      <td>NaN</td>\n",
       "      <td>Got from gobi</td>\n",
       "      <td>2000.0</td>\n",
       "      <td>Income</td>\n",
       "      <td>NaN</td>\n",
       "      <td>2000.0</td>\n",
       "      <td>INR</td>\n",
       "      <td>2000.0</td>\n",
       "    </tr>\n",
       "  </tbody>\n",
       "</table>\n",
       "<p>277 rows × 11 columns</p>\n",
       "</div>"
      ],
      "text/plain": [
       "                   Date               Account        Category  Subcategory  \\\n",
       "0   2022-03-02 10:11:00  CUB - online payment            Food          NaN   \n",
       "1   2022-03-02 10:11:00  CUB - online payment           Other          NaN   \n",
       "2   2022-03-01 19:50:00  CUB - online payment            Food          NaN   \n",
       "3   2022-03-01 18:56:00  CUB - online payment  Transportation          NaN   \n",
       "4   2022-03-01 18:22:00  CUB - online payment            Food          NaN   \n",
       "..                  ...                   ...             ...          ...   \n",
       "272 2021-11-22 14:16:00  CUB - online payment            Food          NaN   \n",
       "273 2021-11-22 14:16:00  CUB - online payment            Food          NaN   \n",
       "274 2021-11-21 17:07:00  CUB - online payment  Transportation          NaN   \n",
       "275 2021-11-21 15:50:00  CUB - online payment            Food          NaN   \n",
       "276 2021-11-21 13:30:00  CUB - online payment           Other          NaN   \n",
       "\n",
       "                   Note     INR Income/Expense  Note.1  Amount Currency  \\\n",
       "0               Brownie    50.0        Expense     NaN    50.0      INR   \n",
       "1      To lended people   300.0        Expense     NaN   300.0      INR   \n",
       "2                Dinner    78.0        Expense     NaN    78.0      INR   \n",
       "3                 Metro    30.0        Expense     NaN    30.0      INR   \n",
       "4                Snacks    67.0        Expense     NaN    67.0      INR   \n",
       "..                  ...     ...            ...     ...     ...      ...   \n",
       "272              Dinner    90.0        Expense     NaN    90.0      INR   \n",
       "273  Lunch with company    97.0        Expense     NaN    97.0      INR   \n",
       "274              Rapido   130.0        Expense     NaN   130.0      INR   \n",
       "275               Lunch   875.0        Expense     NaN   875.0      INR   \n",
       "276       Got from gobi  2000.0         Income     NaN  2000.0      INR   \n",
       "\n",
       "     Account.1  \n",
       "0         50.0  \n",
       "1        300.0  \n",
       "2         78.0  \n",
       "3         30.0  \n",
       "4         67.0  \n",
       "..         ...  \n",
       "272       90.0  \n",
       "273       97.0  \n",
       "274      130.0  \n",
       "275      875.0  \n",
       "276     2000.0  \n",
       "\n",
       "[277 rows x 11 columns]"
      ]
     },
     "execution_count": 136,
     "metadata": {},
     "output_type": "execute_result"
    }
   ],
   "source": [
    "df"
   ]
  },
  {
   "cell_type": "code",
   "execution_count": 137,
   "id": "223c8aab-e9d6-411f-8318-1790115e0bbe",
   "metadata": {},
   "outputs": [],
   "source": [
    "import matplotlib.pyplot as plt"
   ]
  },
  {
   "cell_type": "code",
   "execution_count": 144,
   "id": "aaf77e10-9c65-4844-a0a9-feadb5245f55",
   "metadata": {},
   "outputs": [
    {
     "data": {
      "text/plain": [
       "[<matplotlib.lines.Line2D at 0x26c8b3e3b60>]"
      ]
     },
     "execution_count": 144,
     "metadata": {},
     "output_type": "execute_result"
    },
    {
     "data": {
      "image/png": "[encoded data removed]",
      "text/plain": [
       "<Figure size 640x480 with 1 Axes>"
      ]
     },
     "metadata": {},
     "output_type": "display_data"
    }
   ],
   "source": [
    "plt.plot(df['Date'],df['INR'])"
   ]
  },
  {
   "cell_type": "code",
   "execution_count": 145,
   "id": "0409312d-5101-4f26-b8f4-121f2b541ab9",
   "metadata": {},
   "outputs": [],
   "source": [
    "df['day_name']=df['Date'].dt.day_name()"
   ]
  },
  {
   "cell_type": "code",
   "execution_count": 146,
   "id": "1b54ff10-3ab4-47f6-b96b-2f795aba196a",
   "metadata": {},
   "outputs": [
    {
     "data": {
      "text/plain": [
       "<Axes: xlabel='day_name'>"
      ]
     },
     "execution_count": 146,
     "metadata": {},
     "output_type": "execute_result"
    },
    {
     "data": {
      "image/png": "[encoded data removed]",
      "text/plain": [
       "<Figure size 640x480 with 1 Axes>"
      ]
     },
     "metadata": {},
     "output_type": "display_data"
    }
   ],
   "source": [
    "df.groupby('day_name')['INR'].sum().plot(kind='bar')"
   ]
  },
  {
   "cell_type": "code",
   "execution_count": 147,
   "id": "abf71054-5d59-40f1-9886-304e4febdb32",
   "metadata": {},
   "outputs": [],
   "source": [
    "df['month_name']=df['Date'].dt.month_name()"
   ]
  },
  {
   "cell_type": "code",
   "execution_count": 148,
   "id": "edcfa575-5f8d-42a8-9d49-d4e25677216a",
   "metadata": {},
   "outputs": [
    {
     "data": {
      "text/plain": [
       "<Axes: xlabel='month_name'>"
      ]
     },
     "execution_count": 148,
     "metadata": {},
     "output_type": "execute_result"
    },
    {
     "data": {
      "image/png": "[encoded data removed]",
      "text/plain": [
       "<Figure size 640x480 with 1 Axes>"
      ]
     },
     "metadata": {},
     "output_type": "display_data"
    }
   ],
   "source": [
    "df.groupby('month_name')['INR'].sum().plot(kind='bar')"
   ]
  },
  {
   "cell_type": "code",
   "execution_count": null,
   "id": "9dc1ddd7-c4e0-45f4-b61f-91f0f19f2dd5",
   "metadata": {},
   "outputs": [],
   "source": []
  }
 ],
 "metadata": {
  "kernelspec": {
   "display_name": "Python 3 (ipykernel)",
   "language": "python",
   "name": "python3"
  },
  "language_info": {
   "codemirror_mode": {
    "name": "ipython",
    "version": 3
   },
   "file_extension": ".py",
   "mimetype": "text/x-python",
   "name": "python",
   "nbconvert_exporter": "python",
   "pygments_lexer": "ipython3",
   "version": "3.12.6"
  }
 },
 "nbformat": 4,
 "nbformat_minor": 5
}
