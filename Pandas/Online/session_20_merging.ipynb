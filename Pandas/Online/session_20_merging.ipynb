{
 "cells": [
  {
   "cell_type": "code",
   "execution_count": null,
   "metadata": {
    "id": "a5Z8pAwoVxoP"
   },
   "outputs": [],
   "source": [
    "import pandas as pd\n",
    "import numpy as np"
   ]
  },
  {
   "cell_type": "code",
   "execution_count": null,
   "metadata": {
    "id": "ziYWX2MFJb6x"
   },
   "outputs": [],
   "source": [
    "courses = pd.read_csv('/content/courses.csv')\n",
    "students = pd.read_csv('/content/students.csv')\n",
    "nov = pd.read_csv('/content/reg-month1.csv')\n",
    "dec = pd.read_csv('/content/reg-month2.csv')\n",
    "\n",
    "matches = pd.read_csv('/content/matches.csv')\n",
    "delivery = pd.read_csv('/content/deliveries.csv')"
   ]
  },
  {
   "cell_type": "code",
   "execution_count": null,
   "metadata": {
    "colab": {
     "base_uri": "https://localhost:8080/",
     "height": 927
    },
    "id": "nF2pPvBQHOzk",
    "outputId": "7289ccdb-b4e6-444c-a22b-c34c35dec665"
   },
   "outputs": [],
   "source": [
    "dec"
   ]
  },
  {
   "cell_type": "code",
   "execution_count": null,
   "metadata": {
    "id": "TXh8WSR1JkpL"
   },
   "outputs": [],
   "source": [
    "# pd.concat\n",
    "# df.concat\n",
    "# ignore_index\n",
    "# df.append\n",
    "# mullitindex -> fetch using iloc\n",
    "# concat dataframes horizontally"
   ]
  },
  {
   "cell_type": "code",
   "execution_count": null,
   "metadata": {
    "colab": {
     "base_uri": "https://localhost:8080/",
     "height": 1000
    },
    "id": "7XxxSP53TUB-",
    "outputId": "bbc46f60-42a3-4ceb-b3fc-2d260c6e8ef9"
   },
   "outputs": [],
   "source": [
    "regs = pd.concat([nov,dec],ignore_index=True)\n",
    "regs"
   ]
  },
  {
   "cell_type": "code",
   "execution_count": null,
   "metadata": {
    "colab": {
     "base_uri": "https://localhost:8080/",
     "height": 1000
    },
    "id": "l3E06WOaJrCe",
    "outputId": "c7de05ce-d59e-4ca4-d482-6ae48b01967e"
   },
   "outputs": [],
   "source": [
    "nov.append(dec,ignore_index=True)"
   ]
  },
  {
   "cell_type": "code",
   "execution_count": null,
   "metadata": {
    "colab": {
     "base_uri": "https://localhost:8080/"
    },
    "id": "lIEsSHACKPFk",
    "outputId": "f8d28adf-73b6-4748-b23b-c81c175496c7"
   },
   "outputs": [],
   "source": [
    "multi = pd.concat([nov,dec],keys=['Nov','Dec'])\n",
    "# Multiindex DataFrame\n",
    "multi.loc[('Dec',4)]"
   ]
  },
  {
   "cell_type": "code",
   "execution_count": null,
   "metadata": {
    "colab": {
     "base_uri": "https://localhost:8080/",
     "height": 927
    },
    "id": "Og1iAGNuLiVC",
    "outputId": "65d930c3-1139-4c79-ad3e-193bfc5342d4"
   },
   "outputs": [],
   "source": [
    "pd.concat([nov,dec],axis=1)"
   ]
  },
  {
   "cell_type": "code",
   "execution_count": null,
   "metadata": {
    "colab": {
     "base_uri": "https://localhost:8080/",
     "height": 1000
    },
    "id": "HQL6BVt5aW7-",
    "outputId": "ae8ceedc-3c23-4b36-95be-3f1d78a609aa"
   },
   "outputs": [],
   "source": [
    "# inner join\n",
    "students.merge(regs,how='inner',on='student_id')"
   ]
  },
  {
   "cell_type": "code",
   "execution_count": null,
   "metadata": {
    "colab": {
     "base_uri": "https://localhost:8080/",
     "height": 1000
    },
    "id": "BWAYHLYlaYd9",
    "outputId": "6b09bd32-6ff7-42d6-8ce0-c8ed065da9fe"
   },
   "outputs": [],
   "source": [
    "# left join\n",
    "courses.merge(regs,how='left',on='course_id')"
   ]
  },
  {
   "cell_type": "code",
   "execution_count": null,
   "metadata": {
    "id": "Sr26A-bQabml"
   },
   "outputs": [],
   "source": [
    "# right join\n",
    "temp_df = pd.DataFrame({\n",
    "    'student_id':[26,27,28],\n",
    "    'name':['Nitish','Ankit','Rahul'],\n",
    "    'partner':[28,26,17]\n",
    "})\n",
    "\n",
    "students = pd.concat([students,temp_df],ignore_index=True)"
   ]
  },
  {
   "cell_type": "code",
   "execution_count": null,
   "metadata": {
    "colab": {
     "base_uri": "https://localhost:8080/",
     "height": 206
    },
    "id": "WMBYOaAERdvJ",
    "outputId": "b10d6d6f-34f8-487f-c982-ceb751de5da4"
   },
   "outputs": [],
   "source": [
    "students.tail()"
   ]
  },
  {
   "cell_type": "code",
   "execution_count": null,
   "metadata": {
    "colab": {
     "base_uri": "https://localhost:8080/",
     "height": 1000
    },
    "id": "5EZ2uvGWRkh4",
    "outputId": "3b3fc449-06d3-4620-9a54-4dd178ad519d"
   },
   "outputs": [],
   "source": [
    "students.merge(regs,how='right',on='student_id')"
   ]
  },
  {
   "cell_type": "code",
   "execution_count": null,
   "metadata": {
    "colab": {
     "base_uri": "https://localhost:8080/",
     "height": 1000
    },
    "id": "Xf0oJfoFR8ab",
    "outputId": "6aa1c7f3-6b2f-4103-b7d0-8ab44fcad300"
   },
   "outputs": [],
   "source": [
    "regs.merge(students,how='left',on='student_id')"
   ]
  },
  {
   "cell_type": "code",
   "execution_count": null,
   "metadata": {
    "colab": {
     "base_uri": "https://localhost:8080/",
     "height": 363
    },
    "id": "6VGmV4sIacyd",
    "outputId": "feb54824-0ff6-46ca-8e2e-a8178fb5a203"
   },
   "outputs": [],
   "source": [
    "# outer join\n",
    "students.merge(regs,how='outer',on='student_id').tail(10)"
   ]
  },
  {
   "cell_type": "code",
   "execution_count": null,
   "metadata": {
    "colab": {
     "base_uri": "https://localhost:8080/"
    },
    "id": "dXDqJUq8b4QU",
    "outputId": "beb02068-1094-4604-8918-82a56eef635a"
   },
   "outputs": [],
   "source": [
    "# 1. find total revenue generated\n",
    "total = regs.merge(courses,how='inner',on='course_id')['price'].sum()\n",
    "total"
   ]
  },
  {
   "cell_type": "code",
   "execution_count": null,
   "metadata": {
    "colab": {
     "base_uri": "https://localhost:8080/"
    },
    "id": "t15YgU7ab9sU",
    "outputId": "4d98232f-7309-4a13-d85b-517846a2d795"
   },
   "outputs": [],
   "source": [
    "# 2. find month by month revenue\n",
    "temp_df = pd.concat([nov,dec],keys=['Nov','Dec']).reset_index()\n",
    "temp_df.merge(courses,on='course_id').groupby('level_0')['price'].sum()"
   ]
  },
  {
   "cell_type": "code",
   "execution_count": null,
   "metadata": {
    "colab": {
     "base_uri": "https://localhost:8080/",
     "height": 1000
    },
    "id": "KMNOZ3Q0TwWG",
    "outputId": "69f5b42f-014d-4bd9-9430-f2a0476b37ff"
   },
   "outputs": [],
   "source": [
    "# 3. Print the registration table\n",
    "# cols -> name -> course -> price\n",
    "regs.merge(students,on='student_id').merge(courses,on='course_id')[['name','course_name','price']]"
   ]
  },
  {
   "cell_type": "code",
   "execution_count": null,
   "metadata": {
    "colab": {
     "base_uri": "https://localhost:8080/",
     "height": 374
    },
    "id": "bpmd67TscCco",
    "outputId": "591a973d-6055-497f-ee43-2082a713eac4"
   },
   "outputs": [],
   "source": [
    "# 4. Plot bar chart for revenue/course\n",
    "regs.merge(courses,on='course_id').groupby('course_name')['price'].sum().plot(kind='bar')"
   ]
  },
  {
   "cell_type": "code",
   "execution_count": null,
   "metadata": {
    "colab": {
     "base_uri": "https://localhost:8080/"
    },
    "id": "lyfAkCIDbK84",
    "outputId": "99258202-b8c2-4a52-8de3-aa168280b631"
   },
   "outputs": [],
   "source": [
    "# 5. find students who enrolled in both the months\n",
    "common_student_id = np.intersect1d(nov['student_id'],dec['student_id'])\n",
    "common_student_id"
   ]
  },
  {
   "cell_type": "code",
   "execution_count": null,
   "metadata": {
    "colab": {
     "base_uri": "https://localhost:8080/",
     "height": 332
    },
    "id": "gphe71D6YbVm",
    "outputId": "07b44409-1c79-41a0-cc88-001c04872e3f"
   },
   "outputs": [],
   "source": [
    "students[students['student_id'].isin(common_student_id)]"
   ]
  },
  {
   "cell_type": "code",
   "execution_count": null,
   "metadata": {
    "colab": {
     "base_uri": "https://localhost:8080/",
     "height": 112
    },
    "id": "MoijwjVMbPJR",
    "outputId": "00650adf-31c8-4f1c-c138-c213700f5259"
   },
   "outputs": [],
   "source": [
    "# 6. find course that got no enrollment\n",
    "# courses['course_id']\n",
    "# regs['course_id']\n",
    "\n",
    "course_id_list = np.setdiff1d(courses['course_id'],regs['course_id'])\n",
    "courses[courses['course_id'].isin(course_id_list)]"
   ]
  },
  {
   "cell_type": "code",
   "execution_count": null,
   "metadata": {
    "colab": {
     "base_uri": "https://localhost:8080/"
    },
    "id": "S_otfgAQbTR1",
    "outputId": "38f3fabd-4ae0-415d-f041-9b8c0e18ab76"
   },
   "outputs": [],
   "source": [
    "# 7. find students who did not enroll into any courses\n",
    "student_id_list = np.setdiff1d(students['student_id'],regs['student_id'])\n",
    "students[students['student_id'].isin(student_id_list)].shape[0]\n",
    "\n",
    "(10/28)*100"
   ]
  },
  {
   "cell_type": "code",
   "execution_count": null,
   "metadata": {
    "colab": {
     "base_uri": "https://localhost:8080/",
     "height": 927
    },
    "id": "Y9muAE3xbohv",
    "outputId": "4696b99b-8e55-437f-f612-60d8739c2c73"
   },
   "outputs": [],
   "source": [
    "students"
   ]
  },
  {
   "cell_type": "code",
   "execution_count": null,
   "metadata": {
    "colab": {
     "base_uri": "https://localhost:8080/",
     "height": 927
    },
    "id": "CtFWrIg-cOiZ",
    "outputId": "49cd750d-cb0d-430d-9b81-3b208dea7295"
   },
   "outputs": [],
   "source": [
    "# 8. Print student name -> partner name for all enrolled students\n",
    "# self join\n",
    "students.merge(students,how='inner',left_on='partner',right_on='student_id')[['name_x','name_y']]"
   ]
  },
  {
   "cell_type": "code",
   "execution_count": null,
   "metadata": {
    "colab": {
     "base_uri": "https://localhost:8080/"
    },
    "id": "O-JS7P55fypl",
    "outputId": "99cd616f-7bf0-4fd1-9821-3adb30ad45fd"
   },
   "outputs": [],
   "source": [
    "# 9. find top 3 students who did most number enrollments\n",
    "regs.merge(students,on='student_id').groupby(['student_id','name'])['name'].count().sort_values(ascending=False).head(3)"
   ]
  },
  {
   "cell_type": "code",
   "execution_count": null,
   "metadata": {
    "colab": {
     "base_uri": "https://localhost:8080/"
    },
    "id": "sKF8FTKYf54W",
    "outputId": "58ddbe66-03f0-441b-cecf-0e6c691ebc49"
   },
   "outputs": [],
   "source": [
    "# 10. find top 3 students who spent most amount of money on courses\n",
    "regs.merge(students,on='student_id').merge(courses,on='course_id').groupby(['student_id','name'])['price'].sum().sort_values(ascending=False).head(3)"
   ]
  },
  {
   "cell_type": "code",
   "execution_count": null,
   "metadata": {
    "colab": {
     "base_uri": "https://localhost:8080/",
     "height": 1000
    },
    "id": "GIrMQGYtkTDR",
    "outputId": "f76b2518-9226-4741-ea3d-dbe715f2b0a3"
   },
   "outputs": [],
   "source": [
    "# Alternate syntax for merge\n",
    "# students.merge(regs)\n",
    "\n",
    "pd.merge(students,regs,how='inner',on='student_id')"
   ]
  },
  {
   "cell_type": "code",
   "execution_count": null,
   "metadata": {
    "id": "Npm6witrwRma"
   },
   "outputs": [],
   "source": [
    "# IPL Problems\n",
    "\n",
    "# find top 3 studiums with highest sixes/match ratio\n",
    "# find orange cap holder of all the seasons"
   ]
  },
  {
   "cell_type": "code",
   "execution_count": null,
   "metadata": {
    "colab": {
     "base_uri": "https://localhost:8080/",
     "height": 904
    },
    "id": "olAdXV5afPxk",
    "outputId": "ddd8febd-9541-4567-dad4-2f27ce4551d3"
   },
   "outputs": [],
   "source": [
    "matches"
   ]
  },
  {
   "cell_type": "code",
   "execution_count": null,
   "metadata": {
    "colab": {
     "base_uri": "https://localhost:8080/",
     "height": 835
    },
    "id": "J0XxLdx8fR8e",
    "outputId": "48413d9d-d87b-4e74-e402-de6c784713f0"
   },
   "outputs": [],
   "source": [
    "delivery"
   ]
  },
  {
   "cell_type": "code",
   "execution_count": null,
   "metadata": {
    "id": "Zu-YE4hyffmh"
   },
   "outputs": [],
   "source": [
    "temp_df = delivery.merge(matches,left_on='match_id',right_on='id')"
   ]
  },
  {
   "cell_type": "code",
   "execution_count": null,
   "metadata": {
    "id": "4mFOoX38f544"
   },
   "outputs": [],
   "source": [
    "six_df = temp_df[temp_df['batsman_runs'] == 6]"
   ]
  },
  {
   "cell_type": "code",
   "execution_count": null,
   "metadata": {
    "id": "XVIRt7zhgJNu"
   },
   "outputs": [],
   "source": [
    "# stadium -> sixes\n",
    "num_sixes = six_df.groupby('venue')['venue'].count()"
   ]
  },
  {
   "cell_type": "code",
   "execution_count": null,
   "metadata": {
    "id": "wbf6GaoOgabj"
   },
   "outputs": [],
   "source": [
    "num_matches = matches['venue'].value_counts()"
   ]
  },
  {
   "cell_type": "code",
   "execution_count": null,
   "metadata": {
    "colab": {
     "base_uri": "https://localhost:8080/"
    },
    "id": "jjtLh958gsCi",
    "outputId": "acd5fd14-dd60-4d07-f6e6-f4e8a25150e9"
   },
   "outputs": [],
   "source": [
    "(num_sixes/num_matches).sort_values(ascending=False).head(10)"
   ]
  },
  {
   "cell_type": "code",
   "execution_count": null,
   "metadata": {
    "colab": {
     "base_uri": "https://localhost:8080/",
     "height": 904
    },
    "id": "fD8fQBhVhCFa",
    "outputId": "01412c77-8326-4876-803b-e18314c19a78"
   },
   "outputs": [],
   "source": [
    "matches"
   ]
  },
  {
   "cell_type": "code",
   "execution_count": null,
   "metadata": {
    "colab": {
     "base_uri": "https://localhost:8080/",
     "height": 363
    },
    "id": "vu4ljaALh0bZ",
    "outputId": "82ca5d68-070c-441f-9391-7f1ca81f2868"
   },
   "outputs": [],
   "source": [
    "temp_df.groupby(['season','batsman'])['batsman_runs'].sum().reset_index().sort_values('batsman_runs',ascending=False).drop_duplicates(subset=['season'],keep='first').sort_values('season')"
   ]
  },
  {
   "cell_type": "code",
   "execution_count": null,
   "metadata": {
    "colab": {
     "base_uri": "https://localhost:8080/",
     "height": 305
    },
    "id": "RFtVlkALh8Jo",
    "outputId": "13c27c3c-b4b9-48f0-de51-95875ac99762"
   },
   "outputs": [],
   "source": [
    "temp_df.groupby(['season','batsman'])['batsman_runs'].sum().reset_index().sort_values('batsman_runs',ascending=False)"
   ]
  },
  {
   "cell_type": "code",
   "execution_count": null,
   "metadata": {
    "id": "T7R6m8Q0jQSf"
   },
   "outputs": [],
   "source": []
  }
 ],
 "metadata": {
  "colab": {
   "provenance": []
  },
  "kernelspec": {
   "display_name": "Python 3 (ipykernel)",
   "language": "python",
   "name": "python3"
  },
  "language_info": {
   "codemirror_mode": {
    "name": "ipython",
    "version": 3
   },
   "file_extension": ".py",
   "mimetype": "text/x-python",
   "name": "python",
   "nbconvert_exporter": "python",
   "pygments_lexer": "ipython3",
   "version": "3.12.6"
  }
 },
 "nbformat": 4,
 "nbformat_minor": 4
}
