{
 "cells": [
  {
   "cell_type": "code",
   "execution_count": 1,
   "metadata": {},
   "outputs": [],
   "source": [
    "import pandas as pd"
   ]
  },
  {
   "cell_type": "code",
   "execution_count": 4,
   "metadata": {},
   "outputs": [
    {
     "name": "stdout",
     "output_type": "stream",
     "text": [
      "<class 'pandas.core.frame.DataFrame'>\n",
      "RangeIndex: 30475 entries, 0 to 30474\n",
      "Data columns (total 12 columns):\n",
      " #   Column                Non-Null Count  Dtype         \n",
      "---  ------                --------------  -----         \n",
      " 0   Host Id               30475 non-null  int64         \n",
      " 1   Host Since            30472 non-null  datetime64[ns]\n",
      " 2   Name                  30475 non-null  object        \n",
      " 3   Neighbourhood         30475 non-null  object        \n",
      " 4   Property Type         30472 non-null  object        \n",
      " 5   Room Type             30475 non-null  object        \n",
      " 6   Zipcode               30341 non-null  float64       \n",
      " 7   Beds                  30390 non-null  float64       \n",
      " 8   Number of Records     30475 non-null  int64         \n",
      " 9   Number Of Reviews     30475 non-null  int64         \n",
      " 10  Price                 30475 non-null  int64         \n",
      " 11  Review Scores Rating  22155 non-null  float64       \n",
      "dtypes: datetime64[ns](1), float64(3), int64(4), object(4)\n",
      "memory usage: 2.8+ MB\n"
     ]
    }
   ],
   "source": [
    "pd.read_excel('AirBnb_data.xlsx').info()"
   ]
  },
  {
   "cell_type": "code",
   "execution_count": null,
   "metadata": {},
   "outputs": [],
   "source": []
  }
 ],
 "metadata": {
  "kernelspec": {
   "display_name": "Python 3",
   "language": "python",
   "name": "python3"
  },
  "language_info": {
   "codemirror_mode": {
    "name": "ipython",
    "version": 3
   },
   "file_extension": ".py",
   "mimetype": "text/x-python",
   "name": "python",
   "nbconvert_exporter": "python",
   "pygments_lexer": "ipython3",
   "version": "3.13.1"
  }
 },
 "nbformat": 4,
 "nbformat_minor": 2
}
